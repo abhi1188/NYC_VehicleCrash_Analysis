{
 "cells": [
  {
   "cell_type": "markdown",
   "metadata": {},
   "source": [
    "## Import Libraries"
   ]
  },
  {
   "cell_type": "code",
   "execution_count": 1,
   "metadata": {},
   "outputs": [],
   "source": [
    "import pandas as pd\n",
    "from datetime import datetime\n",
    "import numpy as np\n",
    "from efficient_apriori import apriori #from PyPi\n",
    "from fpgrowth_py import fpgrowth #from PyPi\n",
    "from sklearn.preprocessing import OrdinalEncoder\n",
    "from sklearn.cluster import KMeans\n",
    "import matplotlib.pyplot as plt"
   ]
  },
  {
   "cell_type": "markdown",
   "metadata": {},
   "source": [
    "## Custom functions"
   ]
  },
  {
   "cell_type": "code",
   "execution_count": 2,
   "metadata": {},
   "outputs": [],
   "source": [
    "def getWeatherStation(x):\n",
    "    if x == 'MANHATTAN':\n",
    "        return 'USW00094728'\n",
    "    elif x == 'BRONX' or x == 'QUEENS':\n",
    "        return 'USW00014732'\n",
    "    elif x == 'STATEN ISLAND' or x == 'BROOKLYN':\n",
    "        return 'USW00094789'\n",
    "    else:\n",
    "        return 'UNKNOWN'\n",
    "\n",
    "def getTimeOfDay(x):\n",
    "    if ((x >= 4) & (x <= 8 )):\n",
    "        return 'Early Morning'\n",
    "    elif ((x > 8) & (x < 12 )):\n",
    "        return 'Morning'\n",
    "    elif ((x >= 12) & (x <= 15 )):\n",
    "        return 'Early After Noon'\n",
    "    elif ((x > 15) & (x < 17 )):\n",
    "        return 'Late After Noon'\n",
    "    elif ((x >= 17) & (x < 20 )):\n",
    "        return 'Evening'\n",
    "    elif ((x >= 20) & (x <= 24 )):\n",
    "        return 'Night'\n",
    "    else:\n",
    "        return 'Late Night'\n",
    "\n",
    "def runApriori(dataSet,min_sup,min_conf):\n",
    "    itemsets, rules = apriori(dataSet, min_support=min_sup, min_confidence=min_conf)\n",
    "    return itemsets,rules"
   ]
  },
  {
   "cell_type": "markdown",
   "metadata": {},
   "source": [
    "## Read data from data sources"
   ]
  },
  {
   "cell_type": "code",
   "execution_count": 3,
   "metadata": {},
   "outputs": [],
   "source": [
    "# Get daily climate data for all 3 weather stations of nyc\n",
    "header_list = ['station name', 'date','record type','value','M-flag','Q-flag','S-flag','obs-time']\n",
    "df_read_climatedata_JFK = pd.read_csv(\"https://www1.ncdc.noaa.gov/pub/data/ghcn/daily/by_station/USW00094789.csv.gz\",header=None,names=header_list,usecols=['station name','date','record type','value'])\n",
    "df_read_climatedata_laguardia = pd.read_csv(\"https://www1.ncdc.noaa.gov/pub/data/ghcn/daily/by_station/USW00014732.csv.gz\",header=None,names=header_list,usecols=['station name','date','record type','value'])\n",
    "df_read_climatedata_centralpark = pd.read_csv(\"https://www1.ncdc.noaa.gov/pub/data/ghcn/daily/by_station/USW00094728.csv.gz\",header=None,names=header_list, usecols=['station name','date','record type','value'])\n",
    "\n",
    "#USW00094789 - NY JFK Station\n",
    "#USW00014732 - NY Laguardia\n",
    "#USW00094728 - NY Central Park\n",
    "\n",
    "# Read crash incidents data\n",
    "crashEvents = pd.read_csv('/Users/abhis/Documents/MSU/Project/data.csv',parse_dates=['crash_date'],dtype={'longitude':np.float64, 'latitude':np.float64})"
   ]
  },
  {
   "cell_type": "markdown",
   "metadata": {},
   "source": [
    "## PreProcess data"
   ]
  },
  {
   "cell_type": "code",
   "execution_count": 4,
   "metadata": {},
   "outputs": [],
   "source": [
    "# Convert string date column to datetime for climate data dataframes\n",
    "df_read_climatedata_JFK['date'] = pd.to_datetime(df_read_climatedata_JFK['date'],format=\"%Y%m%d\").dt.strftime('%Y-%m-%d')\n",
    "df_read_climatedata_laguardia['date'] = pd.to_datetime(df_read_climatedata_laguardia['date'],format=\"%Y%m%d\").dt.strftime('%Y-%m-%d')\n",
    "df_read_climatedata_centralpark['date'] = pd.to_datetime(df_read_climatedata_centralpark['date'],format=\"%Y%m%d\").dt.strftime('%Y-%m-%d')\n",
    "crashEvents['crash_date'] = pd.to_datetime(crashEvents['crash_date'],format=\"%Y-%m-%d\")\n",
    "\n",
    "# Rename column\n",
    "crashEvents.rename(columns={'crash_date': 'date'}, inplace=True)\n"
   ]
  },
  {
   "cell_type": "code",
   "execution_count": 5,
   "metadata": {},
   "outputs": [],
   "source": [
    "#Filter the data for last 5 years - 2017, 2018, 2019, 2020, 2021\n",
    "startdate = pd.to_datetime(\"2017-01-01\").date()\n",
    "df_read_climatedata_JFK = df_read_climatedata_JFK[(df_read_climatedata_JFK['date'] >= '2017-01-01')]\n",
    "df_read_climatedata_laguardia = df_read_climatedata_laguardia[(df_read_climatedata_laguardia['date'] >= '2017-01-01')]\n",
    "df_read_climatedata_centralpark = df_read_climatedata_centralpark[(df_read_climatedata_centralpark['date'] >= '2017-01-01')]\n",
    "\n",
    "crashEvents = crashEvents[(crashEvents['date'] >= '2017-01-01')]\n"
   ]
  },
  {
   "cell_type": "code",
   "execution_count": 6,
   "metadata": {},
   "outputs": [],
   "source": [
    "# Reset index for all data frames\n",
    "df_read_climatedata_JFK.reset_index(drop=True,inplace=True)\n",
    "df_read_climatedata_laguardia.reset_index(drop=True,inplace=True)\n",
    "df_read_climatedata_centralpark.reset_index(drop=True,inplace=True)\n",
    "crashEvents.reset_index(drop=True,inplace=True)"
   ]
  },
  {
   "cell_type": "code",
   "execution_count": 7,
   "metadata": {},
   "outputs": [],
   "source": [
    "# Extract day and month from the crash event date column\n",
    "crashEvents['day'] = crashEvents['date'].dt.strftime('%A')\n",
    "crashEvents['month'] = crashEvents['date'].dt.month"
   ]
  },
  {
   "cell_type": "code",
   "execution_count": 8,
   "metadata": {},
   "outputs": [],
   "source": [
    "# Weather station to borough mapping - Manhattan -> Central Park WS, Bronx and Queen -> Laguardia WS, Staten Island and Brooklyn -> JFK\n",
    "\n",
    "crashEvents['stationCode'] = crashEvents['borough'].apply(lambda x: getWeatherStation(x) )\n",
    "crashEvents['timeOfDay'] = crashEvents['crash_time'].apply(lambda x: getTimeOfDay(int(x[:2].replace(\":\",''))) )"
   ]
  },
  {
   "cell_type": "code",
   "execution_count": 9,
   "metadata": {},
   "outputs": [],
   "source": [
    "# Pivot the weather station dataframes and create news ones to be used\n",
    "df_climatedata_JFK = df_read_climatedata_JFK.pivot(index='date',columns='record type',values='value')\n",
    "df_climatedata_laguardia = df_read_climatedata_laguardia.pivot(index='date',columns='record type',values='value')\n",
    "df_climatedata_centralpark = df_read_climatedata_centralpark.pivot(index='date',columns='record type',values='value')"
   ]
  },
  {
   "cell_type": "code",
   "execution_count": 10,
   "metadata": {},
   "outputs": [],
   "source": [
    "# Assign station codes\n",
    "df_climatedata_JFK['stationCode'] = 'USW00094789'\n",
    "df_climatedata_laguardia['stationCode'] = 'USW00014732'\n",
    "df_climatedata_centralpark['stationCode'] = 'USW00094728'"
   ]
  },
  {
   "cell_type": "code",
   "execution_count": 11,
   "metadata": {},
   "outputs": [],
   "source": [
    "# reset indexes for the dataframes\n",
    "df_climatedata_JFK.reset_index(inplace=True)\n",
    "df_climatedata_laguardia.reset_index(inplace=True)\n",
    "df_climatedata_centralpark.reset_index(inplace=True)"
   ]
  },
  {
   "cell_type": "code",
   "execution_count": 12,
   "metadata": {},
   "outputs": [],
   "source": [
    "# drop not required columns from crash events table to reduce the dimensionality\n",
    "crashEvents.drop(columns=['latitude','longitude','contributing_factor_vehicle_1','vehicle_type_code1'],inplace=True)\n",
    "\n",
    "df_climatedata_JFK = df_climatedata_JFK[[\"date\",\"stationCode\",\"PRCP\",\"SNOW\",\"TMAX\",\"TMIN\"]]\n",
    "df_climatedata_laguardia = df_climatedata_laguardia[[\"date\",\"stationCode\",\"PRCP\",\"SNOW\",\"TMAX\",\"TMIN\"]]\n",
    "df_climatedata_centralpark = df_climatedata_centralpark[[\"date\",\"stationCode\",\"PRCP\",\"SNOW\",\"TMAX\",\"TMIN\"]]\n"
   ]
  },
  {
   "cell_type": "code",
   "execution_count": 13,
   "metadata": {},
   "outputs": [],
   "source": [
    "# Merge all the dataframes into one\n",
    "crashEvents['date']=crashEvents.date.astype('datetime64[ns]')\n",
    "df_climatedata_JFK['date'] = df_climatedata_JFK.date.astype('datetime64[ns]')\n",
    "df_climatedata_laguardia['date'] = df_climatedata_laguardia.date.astype('datetime64[ns]')\n",
    "df_climatedata_centralpark['date'] = df_climatedata_centralpark.date.astype('datetime64[ns]')\n",
    "\n",
    "allClimateData = pd.concat([df_climatedata_JFK,df_climatedata_laguardia,df_climatedata_centralpark])\n",
    "\n",
    "allData = pd.merge(crashEvents,allClimateData,how='left',on=['date','stationCode'])\n",
    "\n",
    "# Fill NaN with zeros\n",
    "allData = allData.apply(lambda x: x.fillna(0) if x.dtype.kind in 'biufc' else x.fillna('UNKNOWN'))"
   ]
  },
  {
   "cell_type": "code",
   "execution_count": 14,
   "metadata": {},
   "outputs": [],
   "source": [
    "# Prepare final dataframe - objective is to further reduce the dimensionality\n",
    "#df = allData.groupby(by=['date','day','timeOfDay','month','borough','postalCode','PRCP','SNOW','TMAX','TMIN'], as_index=False).agg({'number_of_persons_injured':'sum','number_of_persons_killed':'sum','number_of_pedestrians_injured':'sum','number_of_pedestrians_killed':'sum','number_of_cyclist_injured':'sum','number_of_cyclist_killed':'sum','number_of_motorist_injured':'sum','number_of_motorist_killed':'sum'})\n",
    "df = allData.groupby(by=['date','day','timeOfDay','month','borough','postalCode','PRCP','SNOW','TMAX','TMIN'], as_index=False).agg({'number_of_persons_injured':'sum','number_of_persons_killed':'sum'})\n",
    "\n",
    "df['lowerLimit_injured'] = df['number_of_persons_injured'] - 2\n",
    "df['higherLimit_injured'] = df['number_of_persons_injured'] + 2\n",
    "\n",
    "df['lowerLimit_killed'] = df['number_of_persons_killed'] - 2\n",
    "df['higherLimit_killed'] = df['number_of_persons_killed'] + 2"
   ]
  },
  {
   "cell_type": "code",
   "execution_count": 15,
   "metadata": {},
   "outputs": [],
   "source": [
    "# Encode 'day' and 'timeOfDay' with OrdinalEncoder\n",
    "ordinal_encoder1 = OrdinalEncoder()\n",
    "ordinal_encoder2 = OrdinalEncoder()\n",
    "ordinal_encoder3 = OrdinalEncoder()\n",
    "\n",
    "day_cat = df[['day']]\n",
    "timeOfDay_cat = df[['timeOfDay']]\n",
    "borough_cat = df[['borough']]\n",
    "\n",
    "day_encoded = ordinal_encoder1.fit_transform(day_cat)\n",
    "timeOfDay_encoded = ordinal_encoder2.fit_transform(timeOfDay_cat)\n",
    "borough_encoded = ordinal_encoder3.fit_transform(borough_cat)\n",
    "\n",
    "df['day_encoded'] = day_encoded\n",
    "df['timeOfDay_encoded'] = timeOfDay_encoded\n",
    "df['borough_encoded'] = borough_encoded\n"
   ]
  },
  {
   "cell_type": "code",
   "execution_count": 16,
   "metadata": {},
   "outputs": [
    {
     "data": {
      "text/html": [
       "<div>\n",
       "<style scoped>\n",
       "    .dataframe tbody tr th:only-of-type {\n",
       "        vertical-align: middle;\n",
       "    }\n",
       "\n",
       "    .dataframe tbody tr th {\n",
       "        vertical-align: top;\n",
       "    }\n",
       "\n",
       "    .dataframe thead th {\n",
       "        text-align: right;\n",
       "    }\n",
       "</style>\n",
       "<table border=\"1\" class=\"dataframe\">\n",
       "  <thead>\n",
       "    <tr style=\"text-align: right;\">\n",
       "      <th></th>\n",
       "      <th>date</th>\n",
       "      <th>day</th>\n",
       "      <th>timeOfDay</th>\n",
       "      <th>month</th>\n",
       "      <th>borough</th>\n",
       "      <th>postalCode</th>\n",
       "      <th>PRCP</th>\n",
       "      <th>SNOW</th>\n",
       "      <th>TMAX</th>\n",
       "      <th>TMIN</th>\n",
       "      <th>number_of_persons_injured</th>\n",
       "      <th>number_of_persons_killed</th>\n",
       "      <th>lowerLimit_injured</th>\n",
       "      <th>higherLimit_injured</th>\n",
       "      <th>lowerLimit_killed</th>\n",
       "      <th>higherLimit_killed</th>\n",
       "      <th>day_encoded</th>\n",
       "      <th>timeOfDay_encoded</th>\n",
       "      <th>borough_encoded</th>\n",
       "    </tr>\n",
       "  </thead>\n",
       "  <tbody>\n",
       "    <tr>\n",
       "      <th>0</th>\n",
       "      <td>2017-01-01</td>\n",
       "      <td>Sunday</td>\n",
       "      <td>Early After Noon</td>\n",
       "      <td>1</td>\n",
       "      <td>BRONX</td>\n",
       "      <td>10451</td>\n",
       "      <td>0.0</td>\n",
       "      <td>0.0</td>\n",
       "      <td>94.0</td>\n",
       "      <td>39.0</td>\n",
       "      <td>0.0</td>\n",
       "      <td>0.0</td>\n",
       "      <td>-2.0</td>\n",
       "      <td>2.0</td>\n",
       "      <td>-2.0</td>\n",
       "      <td>2.0</td>\n",
       "      <td>3.0</td>\n",
       "      <td>0.0</td>\n",
       "      <td>0.0</td>\n",
       "    </tr>\n",
       "    <tr>\n",
       "      <th>1</th>\n",
       "      <td>2017-01-01</td>\n",
       "      <td>Sunday</td>\n",
       "      <td>Early After Noon</td>\n",
       "      <td>1</td>\n",
       "      <td>BRONX</td>\n",
       "      <td>10452</td>\n",
       "      <td>0.0</td>\n",
       "      <td>0.0</td>\n",
       "      <td>94.0</td>\n",
       "      <td>39.0</td>\n",
       "      <td>0.0</td>\n",
       "      <td>0.0</td>\n",
       "      <td>-2.0</td>\n",
       "      <td>2.0</td>\n",
       "      <td>-2.0</td>\n",
       "      <td>2.0</td>\n",
       "      <td>3.0</td>\n",
       "      <td>0.0</td>\n",
       "      <td>0.0</td>\n",
       "    </tr>\n",
       "    <tr>\n",
       "      <th>2</th>\n",
       "      <td>2017-01-01</td>\n",
       "      <td>Sunday</td>\n",
       "      <td>Early After Noon</td>\n",
       "      <td>1</td>\n",
       "      <td>BRONX</td>\n",
       "      <td>10455</td>\n",
       "      <td>0.0</td>\n",
       "      <td>0.0</td>\n",
       "      <td>94.0</td>\n",
       "      <td>39.0</td>\n",
       "      <td>0.0</td>\n",
       "      <td>0.0</td>\n",
       "      <td>-2.0</td>\n",
       "      <td>2.0</td>\n",
       "      <td>-2.0</td>\n",
       "      <td>2.0</td>\n",
       "      <td>3.0</td>\n",
       "      <td>0.0</td>\n",
       "      <td>0.0</td>\n",
       "    </tr>\n",
       "    <tr>\n",
       "      <th>3</th>\n",
       "      <td>2017-01-01</td>\n",
       "      <td>Sunday</td>\n",
       "      <td>Early After Noon</td>\n",
       "      <td>1</td>\n",
       "      <td>BRONX</td>\n",
       "      <td>10458</td>\n",
       "      <td>0.0</td>\n",
       "      <td>0.0</td>\n",
       "      <td>94.0</td>\n",
       "      <td>39.0</td>\n",
       "      <td>0.0</td>\n",
       "      <td>0.0</td>\n",
       "      <td>-2.0</td>\n",
       "      <td>2.0</td>\n",
       "      <td>-2.0</td>\n",
       "      <td>2.0</td>\n",
       "      <td>3.0</td>\n",
       "      <td>0.0</td>\n",
       "      <td>0.0</td>\n",
       "    </tr>\n",
       "    <tr>\n",
       "      <th>4</th>\n",
       "      <td>2017-01-01</td>\n",
       "      <td>Sunday</td>\n",
       "      <td>Early After Noon</td>\n",
       "      <td>1</td>\n",
       "      <td>BRONX</td>\n",
       "      <td>10466</td>\n",
       "      <td>0.0</td>\n",
       "      <td>0.0</td>\n",
       "      <td>94.0</td>\n",
       "      <td>39.0</td>\n",
       "      <td>1.0</td>\n",
       "      <td>0.0</td>\n",
       "      <td>-1.0</td>\n",
       "      <td>3.0</td>\n",
       "      <td>-2.0</td>\n",
       "      <td>2.0</td>\n",
       "      <td>3.0</td>\n",
       "      <td>0.0</td>\n",
       "      <td>0.0</td>\n",
       "    </tr>\n",
       "    <tr>\n",
       "      <th>...</th>\n",
       "      <td>...</td>\n",
       "      <td>...</td>\n",
       "      <td>...</td>\n",
       "      <td>...</td>\n",
       "      <td>...</td>\n",
       "      <td>...</td>\n",
       "      <td>...</td>\n",
       "      <td>...</td>\n",
       "      <td>...</td>\n",
       "      <td>...</td>\n",
       "      <td>...</td>\n",
       "      <td>...</td>\n",
       "      <td>...</td>\n",
       "      <td>...</td>\n",
       "      <td>...</td>\n",
       "      <td>...</td>\n",
       "      <td>...</td>\n",
       "      <td>...</td>\n",
       "      <td>...</td>\n",
       "    </tr>\n",
       "    <tr>\n",
       "      <th>616802</th>\n",
       "      <td>2021-11-19</td>\n",
       "      <td>Friday</td>\n",
       "      <td>Night</td>\n",
       "      <td>11</td>\n",
       "      <td>QUEENS</td>\n",
       "      <td>11434</td>\n",
       "      <td>8.0</td>\n",
       "      <td>0.0</td>\n",
       "      <td>100.0</td>\n",
       "      <td>56.0</td>\n",
       "      <td>0.0</td>\n",
       "      <td>0.0</td>\n",
       "      <td>-2.0</td>\n",
       "      <td>2.0</td>\n",
       "      <td>-2.0</td>\n",
       "      <td>2.0</td>\n",
       "      <td>0.0</td>\n",
       "      <td>6.0</td>\n",
       "      <td>3.0</td>\n",
       "    </tr>\n",
       "    <tr>\n",
       "      <th>616803</th>\n",
       "      <td>2021-11-19</td>\n",
       "      <td>Friday</td>\n",
       "      <td>Night</td>\n",
       "      <td>11</td>\n",
       "      <td>QUEENS</td>\n",
       "      <td>11435</td>\n",
       "      <td>8.0</td>\n",
       "      <td>0.0</td>\n",
       "      <td>100.0</td>\n",
       "      <td>56.0</td>\n",
       "      <td>0.0</td>\n",
       "      <td>0.0</td>\n",
       "      <td>-2.0</td>\n",
       "      <td>2.0</td>\n",
       "      <td>-2.0</td>\n",
       "      <td>2.0</td>\n",
       "      <td>0.0</td>\n",
       "      <td>6.0</td>\n",
       "      <td>3.0</td>\n",
       "    </tr>\n",
       "    <tr>\n",
       "      <th>616804</th>\n",
       "      <td>2021-11-19</td>\n",
       "      <td>Friday</td>\n",
       "      <td>Night</td>\n",
       "      <td>11</td>\n",
       "      <td>QUEENS</td>\n",
       "      <td>11436</td>\n",
       "      <td>8.0</td>\n",
       "      <td>0.0</td>\n",
       "      <td>100.0</td>\n",
       "      <td>56.0</td>\n",
       "      <td>0.0</td>\n",
       "      <td>0.0</td>\n",
       "      <td>-2.0</td>\n",
       "      <td>2.0</td>\n",
       "      <td>-2.0</td>\n",
       "      <td>2.0</td>\n",
       "      <td>0.0</td>\n",
       "      <td>6.0</td>\n",
       "      <td>3.0</td>\n",
       "    </tr>\n",
       "    <tr>\n",
       "      <th>616805</th>\n",
       "      <td>2021-11-19</td>\n",
       "      <td>Friday</td>\n",
       "      <td>Night</td>\n",
       "      <td>11</td>\n",
       "      <td>STATEN ISLAND</td>\n",
       "      <td>10304</td>\n",
       "      <td>15.0</td>\n",
       "      <td>0.0</td>\n",
       "      <td>100.0</td>\n",
       "      <td>39.0</td>\n",
       "      <td>0.0</td>\n",
       "      <td>0.0</td>\n",
       "      <td>-2.0</td>\n",
       "      <td>2.0</td>\n",
       "      <td>-2.0</td>\n",
       "      <td>2.0</td>\n",
       "      <td>0.0</td>\n",
       "      <td>6.0</td>\n",
       "      <td>4.0</td>\n",
       "    </tr>\n",
       "    <tr>\n",
       "      <th>616806</th>\n",
       "      <td>2021-11-19</td>\n",
       "      <td>Friday</td>\n",
       "      <td>Night</td>\n",
       "      <td>11</td>\n",
       "      <td>STATEN ISLAND</td>\n",
       "      <td>10314</td>\n",
       "      <td>15.0</td>\n",
       "      <td>0.0</td>\n",
       "      <td>100.0</td>\n",
       "      <td>39.0</td>\n",
       "      <td>0.0</td>\n",
       "      <td>0.0</td>\n",
       "      <td>-2.0</td>\n",
       "      <td>2.0</td>\n",
       "      <td>-2.0</td>\n",
       "      <td>2.0</td>\n",
       "      <td>0.0</td>\n",
       "      <td>6.0</td>\n",
       "      <td>4.0</td>\n",
       "    </tr>\n",
       "  </tbody>\n",
       "</table>\n",
       "<p>616807 rows × 19 columns</p>\n",
       "</div>"
      ],
      "text/plain": [
       "             date     day         timeOfDay  month        borough  postalCode  \\\n",
       "0      2017-01-01  Sunday  Early After Noon      1          BRONX       10451   \n",
       "1      2017-01-01  Sunday  Early After Noon      1          BRONX       10452   \n",
       "2      2017-01-01  Sunday  Early After Noon      1          BRONX       10455   \n",
       "3      2017-01-01  Sunday  Early After Noon      1          BRONX       10458   \n",
       "4      2017-01-01  Sunday  Early After Noon      1          BRONX       10466   \n",
       "...           ...     ...               ...    ...            ...         ...   \n",
       "616802 2021-11-19  Friday             Night     11         QUEENS       11434   \n",
       "616803 2021-11-19  Friday             Night     11         QUEENS       11435   \n",
       "616804 2021-11-19  Friday             Night     11         QUEENS       11436   \n",
       "616805 2021-11-19  Friday             Night     11  STATEN ISLAND       10304   \n",
       "616806 2021-11-19  Friday             Night     11  STATEN ISLAND       10314   \n",
       "\n",
       "        PRCP  SNOW   TMAX  TMIN  number_of_persons_injured  \\\n",
       "0        0.0   0.0   94.0  39.0                        0.0   \n",
       "1        0.0   0.0   94.0  39.0                        0.0   \n",
       "2        0.0   0.0   94.0  39.0                        0.0   \n",
       "3        0.0   0.0   94.0  39.0                        0.0   \n",
       "4        0.0   0.0   94.0  39.0                        1.0   \n",
       "...      ...   ...    ...   ...                        ...   \n",
       "616802   8.0   0.0  100.0  56.0                        0.0   \n",
       "616803   8.0   0.0  100.0  56.0                        0.0   \n",
       "616804   8.0   0.0  100.0  56.0                        0.0   \n",
       "616805  15.0   0.0  100.0  39.0                        0.0   \n",
       "616806  15.0   0.0  100.0  39.0                        0.0   \n",
       "\n",
       "        number_of_persons_killed  lowerLimit_injured  higherLimit_injured  \\\n",
       "0                            0.0                -2.0                  2.0   \n",
       "1                            0.0                -2.0                  2.0   \n",
       "2                            0.0                -2.0                  2.0   \n",
       "3                            0.0                -2.0                  2.0   \n",
       "4                            0.0                -1.0                  3.0   \n",
       "...                          ...                 ...                  ...   \n",
       "616802                       0.0                -2.0                  2.0   \n",
       "616803                       0.0                -2.0                  2.0   \n",
       "616804                       0.0                -2.0                  2.0   \n",
       "616805                       0.0                -2.0                  2.0   \n",
       "616806                       0.0                -2.0                  2.0   \n",
       "\n",
       "        lowerLimit_killed  higherLimit_killed  day_encoded  timeOfDay_encoded  \\\n",
       "0                    -2.0                 2.0          3.0                0.0   \n",
       "1                    -2.0                 2.0          3.0                0.0   \n",
       "2                    -2.0                 2.0          3.0                0.0   \n",
       "3                    -2.0                 2.0          3.0                0.0   \n",
       "4                    -2.0                 2.0          3.0                0.0   \n",
       "...                   ...                 ...          ...                ...   \n",
       "616802               -2.0                 2.0          0.0                6.0   \n",
       "616803               -2.0                 2.0          0.0                6.0   \n",
       "616804               -2.0                 2.0          0.0                6.0   \n",
       "616805               -2.0                 2.0          0.0                6.0   \n",
       "616806               -2.0                 2.0          0.0                6.0   \n",
       "\n",
       "        borough_encoded  \n",
       "0                   0.0  \n",
       "1                   0.0  \n",
       "2                   0.0  \n",
       "3                   0.0  \n",
       "4                   0.0  \n",
       "...                 ...  \n",
       "616802              3.0  \n",
       "616803              3.0  \n",
       "616804              3.0  \n",
       "616805              4.0  \n",
       "616806              4.0  \n",
       "\n",
       "[616807 rows x 19 columns]"
      ]
     },
     "execution_count": 16,
     "metadata": {},
     "output_type": "execute_result"
    }
   ],
   "source": [
    "#df[df['number_of_pedestrians_killed']>0]['timeOfDay'].value_counts().plot(kind='bar')\n",
    "#df.to_csv('/Users/abhis/Documents/MSU/Project/check_ml_data.csv',float_format='%.15f',index=False)\n",
    "df"
   ]
  },
  {
   "cell_type": "markdown",
   "metadata": {},
   "source": [
    "## Correlation analysis"
   ]
  },
  {
   "cell_type": "code",
   "execution_count": 17,
   "metadata": {},
   "outputs": [
    {
     "data": {
      "text/html": [
       "<style type=\"text/css\">\n",
       "#T_b33c0_row0_col0, #T_b33c0_row1_col1, #T_b33c0_row2_col2, #T_b33c0_row3_col3, #T_b33c0_row4_col4, #T_b33c0_row5_col5, #T_b33c0_row6_col6, #T_b33c0_row7_col7, #T_b33c0_row8_col8, #T_b33c0_row9_col9, #T_b33c0_row10_col10 {\n",
       "  background-color: #b40426;\n",
       "  color: #f1f1f1;\n",
       "}\n",
       "#T_b33c0_row0_col1, #T_b33c0_row3_col9, #T_b33c0_row4_col1, #T_b33c0_row5_col2, #T_b33c0_row7_col3, #T_b33c0_row10_col1, #T_b33c0_row10_col2 {\n",
       "  background-color: #4055c8;\n",
       "  color: #f1f1f1;\n",
       "}\n",
       "#T_b33c0_row0_col2, #T_b33c0_row0_col4, #T_b33c0_row2_col1, #T_b33c0_row2_col3, #T_b33c0_row7_col4, #T_b33c0_row9_col1, #T_b33c0_row10_col4 {\n",
       "  background-color: #3e51c5;\n",
       "  color: #f1f1f1;\n",
       "}\n",
       "#T_b33c0_row0_col3, #T_b33c0_row1_col3, #T_b33c0_row3_col1, #T_b33c0_row3_col5, #T_b33c0_row5_col3, #T_b33c0_row8_col3, #T_b33c0_row10_col3, #T_b33c0_row10_col5 {\n",
       "  background-color: #4257c9;\n",
       "  color: #f1f1f1;\n",
       "}\n",
       "#T_b33c0_row0_col5, #T_b33c0_row1_col0, #T_b33c0_row2_col10, #T_b33c0_row8_col5 {\n",
       "  background-color: #4b64d5;\n",
       "  color: #f1f1f1;\n",
       "}\n",
       "#T_b33c0_row0_col6, #T_b33c0_row4_col9, #T_b33c0_row5_col0 {\n",
       "  background-color: #5673e0;\n",
       "  color: #f1f1f1;\n",
       "}\n",
       "#T_b33c0_row0_col7 {\n",
       "  background-color: #b5cdfa;\n",
       "  color: #000000;\n",
       "}\n",
       "#T_b33c0_row0_col8 {\n",
       "  background-color: #c0d4f5;\n",
       "  color: #000000;\n",
       "}\n",
       "#T_b33c0_row0_col9, #T_b33c0_row0_col10, #T_b33c0_row7_col10, #T_b33c0_row8_col10 {\n",
       "  background-color: #4a63d3;\n",
       "  color: #f1f1f1;\n",
       "}\n",
       "#T_b33c0_row1_col2, #T_b33c0_row1_col5, #T_b33c0_row3_col2, #T_b33c0_row5_col1, #T_b33c0_row5_col4, #T_b33c0_row6_col0, #T_b33c0_row6_col7, #T_b33c0_row6_col8, #T_b33c0_row7_col6, #T_b33c0_row9_col3, #T_b33c0_row9_col10, #T_b33c0_row10_col9 {\n",
       "  background-color: #3b4cc0;\n",
       "  color: #f1f1f1;\n",
       "}\n",
       "#T_b33c0_row1_col4, #T_b33c0_row2_col4, #T_b33c0_row4_col5, #T_b33c0_row6_col2, #T_b33c0_row6_col4, #T_b33c0_row8_col4, #T_b33c0_row8_col6 {\n",
       "  background-color: #3d50c3;\n",
       "  color: #f1f1f1;\n",
       "}\n",
       "#T_b33c0_row1_col6, #T_b33c0_row1_col7, #T_b33c0_row1_col8 {\n",
       "  background-color: #6c8ff1;\n",
       "  color: #f1f1f1;\n",
       "}\n",
       "#T_b33c0_row1_col9, #T_b33c0_row6_col1 {\n",
       "  background-color: #455cce;\n",
       "  color: #f1f1f1;\n",
       "}\n",
       "#T_b33c0_row1_col10, #T_b33c0_row4_col10, #T_b33c0_row6_col9, #T_b33c0_row6_col10 {\n",
       "  background-color: #485fd1;\n",
       "  color: #f1f1f1;\n",
       "}\n",
       "#T_b33c0_row2_col0, #T_b33c0_row2_col9, #T_b33c0_row3_col0, #T_b33c0_row7_col9, #T_b33c0_row8_col9, #T_b33c0_row10_col0 {\n",
       "  background-color: #4e68d8;\n",
       "  color: #f1f1f1;\n",
       "}\n",
       "#T_b33c0_row2_col5 {\n",
       "  background-color: #445acc;\n",
       "  color: #f1f1f1;\n",
       "}\n",
       "#T_b33c0_row2_col6, #T_b33c0_row4_col7, #T_b33c0_row9_col6 {\n",
       "  background-color: #688aef;\n",
       "  color: #f1f1f1;\n",
       "}\n",
       "#T_b33c0_row2_col7, #T_b33c0_row9_col7 {\n",
       "  background-color: #6e90f2;\n",
       "  color: #f1f1f1;\n",
       "}\n",
       "#T_b33c0_row2_col8, #T_b33c0_row9_col8 {\n",
       "  background-color: #6b8df0;\n",
       "  color: #f1f1f1;\n",
       "}\n",
       "#T_b33c0_row3_col4 {\n",
       "  background-color: #7ea1fa;\n",
       "  color: #f1f1f1;\n",
       "}\n",
       "#T_b33c0_row3_col6, #T_b33c0_row10_col7 {\n",
       "  background-color: #6a8bef;\n",
       "  color: #f1f1f1;\n",
       "}\n",
       "#T_b33c0_row3_col7, #T_b33c0_row4_col6, #T_b33c0_row10_col6, #T_b33c0_row10_col8 {\n",
       "  background-color: #6788ee;\n",
       "  color: #f1f1f1;\n",
       "}\n",
       "#T_b33c0_row3_col8, #T_b33c0_row5_col7, #T_b33c0_row6_col5 {\n",
       "  background-color: #6687ed;\n",
       "  color: #f1f1f1;\n",
       "}\n",
       "#T_b33c0_row3_col10, #T_b33c0_row5_col10, #T_b33c0_row8_col1 {\n",
       "  background-color: #4961d2;\n",
       "  color: #f1f1f1;\n",
       "}\n",
       "#T_b33c0_row4_col0, #T_b33c0_row9_col4 {\n",
       "  background-color: #4c66d6;\n",
       "  color: #f1f1f1;\n",
       "}\n",
       "#T_b33c0_row4_col2 {\n",
       "  background-color: #3c4ec2;\n",
       "  color: #f1f1f1;\n",
       "}\n",
       "#T_b33c0_row4_col3 {\n",
       "  background-color: #81a4fb;\n",
       "  color: #f1f1f1;\n",
       "}\n",
       "#T_b33c0_row4_col8 {\n",
       "  background-color: #6485ec;\n",
       "  color: #f1f1f1;\n",
       "}\n",
       "#T_b33c0_row5_col6 {\n",
       "  background-color: #8badfd;\n",
       "  color: #000000;\n",
       "}\n",
       "#T_b33c0_row5_col8 {\n",
       "  background-color: #6f92f3;\n",
       "  color: #f1f1f1;\n",
       "}\n",
       "#T_b33c0_row5_col9, #T_b33c0_row7_col1 {\n",
       "  background-color: #465ecf;\n",
       "  color: #f1f1f1;\n",
       "}\n",
       "#T_b33c0_row6_col3, #T_b33c0_row7_col2, #T_b33c0_row8_col2, #T_b33c0_row9_col2 {\n",
       "  background-color: #4358cb;\n",
       "  color: #f1f1f1;\n",
       "}\n",
       "#T_b33c0_row7_col0 {\n",
       "  background-color: #9fbfff;\n",
       "  color: #000000;\n",
       "}\n",
       "#T_b33c0_row7_col5, #T_b33c0_row9_col5 {\n",
       "  background-color: #3f53c6;\n",
       "  color: #f1f1f1;\n",
       "}\n",
       "#T_b33c0_row7_col8, #T_b33c0_row8_col7 {\n",
       "  background-color: #c12b30;\n",
       "  color: #f1f1f1;\n",
       "}\n",
       "#T_b33c0_row8_col0 {\n",
       "  background-color: #afcafc;\n",
       "  color: #000000;\n",
       "}\n",
       "#T_b33c0_row9_col0 {\n",
       "  background-color: #4f69d9;\n",
       "  color: #f1f1f1;\n",
       "}\n",
       "</style>\n",
       "<table id=\"T_b33c0_\">\n",
       "  <thead>\n",
       "    <tr>\n",
       "      <th class=\"blank level0\" >&nbsp;</th>\n",
       "      <th class=\"col_heading level0 col0\" >month</th>\n",
       "      <th class=\"col_heading level0 col1\" >day_encoded</th>\n",
       "      <th class=\"col_heading level0 col2\" >timeOfDay_encoded</th>\n",
       "      <th class=\"col_heading level0 col3\" >borough_encoded</th>\n",
       "      <th class=\"col_heading level0 col4\" >postalCode</th>\n",
       "      <th class=\"col_heading level0 col5\" >PRCP</th>\n",
       "      <th class=\"col_heading level0 col6\" >SNOW</th>\n",
       "      <th class=\"col_heading level0 col7\" >TMAX</th>\n",
       "      <th class=\"col_heading level0 col8\" >TMIN</th>\n",
       "      <th class=\"col_heading level0 col9\" >number_of_persons_injured</th>\n",
       "      <th class=\"col_heading level0 col10\" >number_of_persons_killed</th>\n",
       "    </tr>\n",
       "  </thead>\n",
       "  <tbody>\n",
       "    <tr>\n",
       "      <th id=\"T_b33c0_level0_row0\" class=\"row_heading level0 row0\" >month</th>\n",
       "      <td id=\"T_b33c0_row0_col0\" class=\"data row0 col0\" >1.00</td>\n",
       "      <td id=\"T_b33c0_row0_col1\" class=\"data row0 col1\" >-0.00</td>\n",
       "      <td id=\"T_b33c0_row0_col2\" class=\"data row0 col2\" >0.00</td>\n",
       "      <td id=\"T_b33c0_row0_col3\" class=\"data row0 col3\" >0.00</td>\n",
       "      <td id=\"T_b33c0_row0_col4\" class=\"data row0 col4\" >-0.00</td>\n",
       "      <td id=\"T_b33c0_row0_col5\" class=\"data row0 col5\" >0.03</td>\n",
       "      <td id=\"T_b33c0_row0_col6\" class=\"data row0 col6\" >-0.07</td>\n",
       "      <td id=\"T_b33c0_row0_col7\" class=\"data row0 col7\" >0.26</td>\n",
       "      <td id=\"T_b33c0_row0_col8\" class=\"data row0 col8\" >0.30</td>\n",
       "      <td id=\"T_b33c0_row0_col9\" class=\"data row0 col9\" >0.01</td>\n",
       "      <td id=\"T_b33c0_row0_col10\" class=\"data row0 col10\" >0.00</td>\n",
       "    </tr>\n",
       "    <tr>\n",
       "      <th id=\"T_b33c0_level0_row1\" class=\"row_heading level0 row1\" >day_encoded</th>\n",
       "      <td id=\"T_b33c0_row1_col0\" class=\"data row1 col0\" >-0.00</td>\n",
       "      <td id=\"T_b33c0_row1_col1\" class=\"data row1 col1\" >1.00</td>\n",
       "      <td id=\"T_b33c0_row1_col2\" class=\"data row1 col2\" >-0.01</td>\n",
       "      <td id=\"T_b33c0_row1_col3\" class=\"data row1 col3\" >0.00</td>\n",
       "      <td id=\"T_b33c0_row1_col4\" class=\"data row1 col4\" >-0.00</td>\n",
       "      <td id=\"T_b33c0_row1_col5\" class=\"data row1 col5\" >-0.03</td>\n",
       "      <td id=\"T_b33c0_row1_col6\" class=\"data row1 col6\" >0.01</td>\n",
       "      <td id=\"T_b33c0_row1_col7\" class=\"data row1 col7\" >0.02</td>\n",
       "      <td id=\"T_b33c0_row1_col8\" class=\"data row1 col8\" >0.02</td>\n",
       "      <td id=\"T_b33c0_row1_col9\" class=\"data row1 col9\" >-0.01</td>\n",
       "      <td id=\"T_b33c0_row1_col10\" class=\"data row1 col10\" >-0.00</td>\n",
       "    </tr>\n",
       "    <tr>\n",
       "      <th id=\"T_b33c0_level0_row2\" class=\"row_heading level0 row2\" >timeOfDay_encoded</th>\n",
       "      <td id=\"T_b33c0_row2_col0\" class=\"data row2 col0\" >0.00</td>\n",
       "      <td id=\"T_b33c0_row2_col1\" class=\"data row2 col1\" >-0.01</td>\n",
       "      <td id=\"T_b33c0_row2_col2\" class=\"data row2 col2\" >1.00</td>\n",
       "      <td id=\"T_b33c0_row2_col3\" class=\"data row2 col3\" >-0.01</td>\n",
       "      <td id=\"T_b33c0_row2_col4\" class=\"data row2 col4\" >-0.01</td>\n",
       "      <td id=\"T_b33c0_row2_col5\" class=\"data row2 col5\" >0.01</td>\n",
       "      <td id=\"T_b33c0_row2_col6\" class=\"data row2 col6\" >-0.00</td>\n",
       "      <td id=\"T_b33c0_row2_col7\" class=\"data row2 col7\" >0.02</td>\n",
       "      <td id=\"T_b33c0_row2_col8\" class=\"data row2 col8\" >0.02</td>\n",
       "      <td id=\"T_b33c0_row2_col9\" class=\"data row2 col9\" >0.02</td>\n",
       "      <td id=\"T_b33c0_row2_col10\" class=\"data row2 col10\" >0.01</td>\n",
       "    </tr>\n",
       "    <tr>\n",
       "      <th id=\"T_b33c0_level0_row3\" class=\"row_heading level0 row3\" >borough_encoded</th>\n",
       "      <td id=\"T_b33c0_row3_col0\" class=\"data row3 col0\" >0.00</td>\n",
       "      <td id=\"T_b33c0_row3_col1\" class=\"data row3 col1\" >0.00</td>\n",
       "      <td id=\"T_b33c0_row3_col2\" class=\"data row3 col2\" >-0.01</td>\n",
       "      <td id=\"T_b33c0_row3_col3\" class=\"data row3 col3\" >1.00</td>\n",
       "      <td id=\"T_b33c0_row3_col4\" class=\"data row3 col4\" >0.20</td>\n",
       "      <td id=\"T_b33c0_row3_col5\" class=\"data row3 col5\" >0.00</td>\n",
       "      <td id=\"T_b33c0_row3_col6\" class=\"data row3 col6\" >0.00</td>\n",
       "      <td id=\"T_b33c0_row3_col7\" class=\"data row3 col7\" >-0.00</td>\n",
       "      <td id=\"T_b33c0_row3_col8\" class=\"data row3 col8\" >0.00</td>\n",
       "      <td id=\"T_b33c0_row3_col9\" class=\"data row3 col9\" >-0.03</td>\n",
       "      <td id=\"T_b33c0_row3_col10\" class=\"data row3 col10\" >0.00</td>\n",
       "    </tr>\n",
       "    <tr>\n",
       "      <th id=\"T_b33c0_level0_row4\" class=\"row_heading level0 row4\" >postalCode</th>\n",
       "      <td id=\"T_b33c0_row4_col0\" class=\"data row4 col0\" >-0.00</td>\n",
       "      <td id=\"T_b33c0_row4_col1\" class=\"data row4 col1\" >-0.00</td>\n",
       "      <td id=\"T_b33c0_row4_col2\" class=\"data row4 col2\" >-0.01</td>\n",
       "      <td id=\"T_b33c0_row4_col3\" class=\"data row4 col3\" >0.20</td>\n",
       "      <td id=\"T_b33c0_row4_col4\" class=\"data row4 col4\" >1.00</td>\n",
       "      <td id=\"T_b33c0_row4_col5\" class=\"data row4 col5\" >-0.01</td>\n",
       "      <td id=\"T_b33c0_row4_col6\" class=\"data row4 col6\" >-0.01</td>\n",
       "      <td id=\"T_b33c0_row4_col7\" class=\"data row4 col7\" >-0.00</td>\n",
       "      <td id=\"T_b33c0_row4_col8\" class=\"data row4 col8\" >-0.01</td>\n",
       "      <td id=\"T_b33c0_row4_col9\" class=\"data row4 col9\" >0.05</td>\n",
       "      <td id=\"T_b33c0_row4_col10\" class=\"data row4 col10\" >-0.00</td>\n",
       "    </tr>\n",
       "    <tr>\n",
       "      <th id=\"T_b33c0_level0_row5\" class=\"row_heading level0 row5\" >PRCP</th>\n",
       "      <td id=\"T_b33c0_row5_col0\" class=\"data row5 col0\" >0.03</td>\n",
       "      <td id=\"T_b33c0_row5_col1\" class=\"data row5 col1\" >-0.03</td>\n",
       "      <td id=\"T_b33c0_row5_col2\" class=\"data row5 col2\" >0.01</td>\n",
       "      <td id=\"T_b33c0_row5_col3\" class=\"data row5 col3\" >0.00</td>\n",
       "      <td id=\"T_b33c0_row5_col4\" class=\"data row5 col4\" >-0.01</td>\n",
       "      <td id=\"T_b33c0_row5_col5\" class=\"data row5 col5\" >1.00</td>\n",
       "      <td id=\"T_b33c0_row5_col6\" class=\"data row5 col6\" >0.12</td>\n",
       "      <td id=\"T_b33c0_row5_col7\" class=\"data row5 col7\" >-0.01</td>\n",
       "      <td id=\"T_b33c0_row5_col8\" class=\"data row5 col8\" >0.03</td>\n",
       "      <td id=\"T_b33c0_row5_col9\" class=\"data row5 col9\" >-0.01</td>\n",
       "      <td id=\"T_b33c0_row5_col10\" class=\"data row5 col10\" >0.00</td>\n",
       "    </tr>\n",
       "    <tr>\n",
       "      <th id=\"T_b33c0_level0_row6\" class=\"row_heading level0 row6\" >SNOW</th>\n",
       "      <td id=\"T_b33c0_row6_col0\" class=\"data row6 col0\" >-0.07</td>\n",
       "      <td id=\"T_b33c0_row6_col1\" class=\"data row6 col1\" >0.01</td>\n",
       "      <td id=\"T_b33c0_row6_col2\" class=\"data row6 col2\" >-0.00</td>\n",
       "      <td id=\"T_b33c0_row6_col3\" class=\"data row6 col3\" >0.00</td>\n",
       "      <td id=\"T_b33c0_row6_col4\" class=\"data row6 col4\" >-0.01</td>\n",
       "      <td id=\"T_b33c0_row6_col5\" class=\"data row6 col5\" >0.12</td>\n",
       "      <td id=\"T_b33c0_row6_col6\" class=\"data row6 col6\" >1.00</td>\n",
       "      <td id=\"T_b33c0_row6_col7\" class=\"data row6 col7\" >-0.17</td>\n",
       "      <td id=\"T_b33c0_row6_col8\" class=\"data row6 col8\" >-0.16</td>\n",
       "      <td id=\"T_b33c0_row6_col9\" class=\"data row6 col9\" >-0.00</td>\n",
       "      <td id=\"T_b33c0_row6_col10\" class=\"data row6 col10\" >-0.00</td>\n",
       "    </tr>\n",
       "    <tr>\n",
       "      <th id=\"T_b33c0_level0_row7\" class=\"row_heading level0 row7\" >TMAX</th>\n",
       "      <td id=\"T_b33c0_row7_col0\" class=\"data row7 col0\" >0.26</td>\n",
       "      <td id=\"T_b33c0_row7_col1\" class=\"data row7 col1\" >0.02</td>\n",
       "      <td id=\"T_b33c0_row7_col2\" class=\"data row7 col2\" >0.02</td>\n",
       "      <td id=\"T_b33c0_row7_col3\" class=\"data row7 col3\" >-0.00</td>\n",
       "      <td id=\"T_b33c0_row7_col4\" class=\"data row7 col4\" >-0.00</td>\n",
       "      <td id=\"T_b33c0_row7_col5\" class=\"data row7 col5\" >-0.01</td>\n",
       "      <td id=\"T_b33c0_row7_col6\" class=\"data row7 col6\" >-0.17</td>\n",
       "      <td id=\"T_b33c0_row7_col7\" class=\"data row7 col7\" >1.00</td>\n",
       "      <td id=\"T_b33c0_row7_col8\" class=\"data row7 col8\" >0.96</td>\n",
       "      <td id=\"T_b33c0_row7_col9\" class=\"data row7 col9\" >0.02</td>\n",
       "      <td id=\"T_b33c0_row7_col10\" class=\"data row7 col10\" >0.00</td>\n",
       "    </tr>\n",
       "    <tr>\n",
       "      <th id=\"T_b33c0_level0_row8\" class=\"row_heading level0 row8\" >TMIN</th>\n",
       "      <td id=\"T_b33c0_row8_col0\" class=\"data row8 col0\" >0.30</td>\n",
       "      <td id=\"T_b33c0_row8_col1\" class=\"data row8 col1\" >0.02</td>\n",
       "      <td id=\"T_b33c0_row8_col2\" class=\"data row8 col2\" >0.02</td>\n",
       "      <td id=\"T_b33c0_row8_col3\" class=\"data row8 col3\" >0.00</td>\n",
       "      <td id=\"T_b33c0_row8_col4\" class=\"data row8 col4\" >-0.01</td>\n",
       "      <td id=\"T_b33c0_row8_col5\" class=\"data row8 col5\" >0.03</td>\n",
       "      <td id=\"T_b33c0_row8_col6\" class=\"data row8 col6\" >-0.16</td>\n",
       "      <td id=\"T_b33c0_row8_col7\" class=\"data row8 col7\" >0.96</td>\n",
       "      <td id=\"T_b33c0_row8_col8\" class=\"data row8 col8\" >1.00</td>\n",
       "      <td id=\"T_b33c0_row8_col9\" class=\"data row8 col9\" >0.02</td>\n",
       "      <td id=\"T_b33c0_row8_col10\" class=\"data row8 col10\" >0.00</td>\n",
       "    </tr>\n",
       "    <tr>\n",
       "      <th id=\"T_b33c0_level0_row9\" class=\"row_heading level0 row9\" >number_of_persons_injured</th>\n",
       "      <td id=\"T_b33c0_row9_col0\" class=\"data row9 col0\" >0.01</td>\n",
       "      <td id=\"T_b33c0_row9_col1\" class=\"data row9 col1\" >-0.01</td>\n",
       "      <td id=\"T_b33c0_row9_col2\" class=\"data row9 col2\" >0.02</td>\n",
       "      <td id=\"T_b33c0_row9_col3\" class=\"data row9 col3\" >-0.03</td>\n",
       "      <td id=\"T_b33c0_row9_col4\" class=\"data row9 col4\" >0.05</td>\n",
       "      <td id=\"T_b33c0_row9_col5\" class=\"data row9 col5\" >-0.01</td>\n",
       "      <td id=\"T_b33c0_row9_col6\" class=\"data row9 col6\" >-0.00</td>\n",
       "      <td id=\"T_b33c0_row9_col7\" class=\"data row9 col7\" >0.02</td>\n",
       "      <td id=\"T_b33c0_row9_col8\" class=\"data row9 col8\" >0.02</td>\n",
       "      <td id=\"T_b33c0_row9_col9\" class=\"data row9 col9\" >1.00</td>\n",
       "      <td id=\"T_b33c0_row9_col10\" class=\"data row9 col10\" >-0.05</td>\n",
       "    </tr>\n",
       "    <tr>\n",
       "      <th id=\"T_b33c0_level0_row10\" class=\"row_heading level0 row10\" >number_of_persons_killed</th>\n",
       "      <td id=\"T_b33c0_row10_col0\" class=\"data row10 col0\" >0.00</td>\n",
       "      <td id=\"T_b33c0_row10_col1\" class=\"data row10 col1\" >-0.00</td>\n",
       "      <td id=\"T_b33c0_row10_col2\" class=\"data row10 col2\" >0.01</td>\n",
       "      <td id=\"T_b33c0_row10_col3\" class=\"data row10 col3\" >0.00</td>\n",
       "      <td id=\"T_b33c0_row10_col4\" class=\"data row10 col4\" >-0.00</td>\n",
       "      <td id=\"T_b33c0_row10_col5\" class=\"data row10 col5\" >0.00</td>\n",
       "      <td id=\"T_b33c0_row10_col6\" class=\"data row10 col6\" >-0.00</td>\n",
       "      <td id=\"T_b33c0_row10_col7\" class=\"data row10 col7\" >0.00</td>\n",
       "      <td id=\"T_b33c0_row10_col8\" class=\"data row10 col8\" >0.00</td>\n",
       "      <td id=\"T_b33c0_row10_col9\" class=\"data row10 col9\" >-0.05</td>\n",
       "      <td id=\"T_b33c0_row10_col10\" class=\"data row10 col10\" >1.00</td>\n",
       "    </tr>\n",
       "  </tbody>\n",
       "</table>\n"
      ],
      "text/plain": [
       "<pandas.io.formats.style.Styler at 0x147b95f10>"
      ]
     },
     "execution_count": 17,
     "metadata": {},
     "output_type": "execute_result"
    }
   ],
   "source": [
    "corr_matrix = df[(df['number_of_persons_killed']>0) | (df['number_of_persons_injured']>0)][[\"date\",\"month\",\"day_encoded\",\"timeOfDay_encoded\",\"borough_encoded\",\"postalCode\",\"PRCP\",\"SNOW\",\"TMAX\",\"TMIN\",\"number_of_persons_injured\",\"number_of_persons_killed\"]].corr()\n",
    "#corr_matrix = df[[\"date\",\"month\",\"day_encoded\",\"timeOfDay_encoded\",\"borough_encoded\",\"postalCode\",\"PRCP\",\"SNOW\",\"TMAX\",\"TMIN\",\"number_of_persons_injured\",\"number_of_persons_killed\",\"number_of_pedestrians_injured\",\"number_of_pedestrians_killed\",\"number_of_cyclist_injured\",\"number_of_cyclist_killed\",\"number_of_motorist_injured\",\"number_of_motorist_killed\"]].corr()\n",
    "corr_matrix.style.background_gradient(cmap='coolwarm').format(precision=2)\n"
   ]
  },
  {
   "cell_type": "markdown",
   "metadata": {},
   "source": [
    "## Data Mining"
   ]
  },
  {
   "cell_type": "code",
   "execution_count": 18,
   "metadata": {},
   "outputs": [],
   "source": [
    "# Prepare dataframe for - persons killed \n",
    "df_for_association_mining_personsKilled = df[(df['number_of_persons_killed']>0)][[\"timeOfDay\",\"day\",\"month\",\"borough\",\"number_of_persons_killed\"]]\n",
    "\n",
    "df_for_association_mining_personsKilled['month'] = df_for_association_mining_personsKilled['month'].astype(\"str\")\n",
    "#df_for_association_mining_personsKilled['postalCode'] = df_for_association_mining_personsKilled['postalCode'].astype(\"str\")\n",
    "df_for_association_mining_personsKilled['number_of_persons_killed'] = df_for_association_mining_personsKilled['number_of_persons_killed'].astype(\"str\")\n",
    "#df_for_association_mining_personsKilled['PRCP'] = df_for_association_mining_personsKilled['PRCP'].astype(\"str\")\n",
    "# Convert dataframe to list of tuples\n",
    "transactions_from_df_1 = [tuple(row) for row in df_for_association_mining_personsKilled.values.tolist()]"
   ]
  },
  {
   "cell_type": "code",
   "execution_count": 19,
   "metadata": {},
   "outputs": [],
   "source": [
    "# Prepare dataframe for - persons injured \n",
    "df_for_association_mining_personsInjured = df[(df['number_of_persons_injured']>0)][[\"timeOfDay\",\"day\",\"month\",\"borough\",\"number_of_persons_injured\"]]\n",
    "\n",
    "df_for_association_mining_personsInjured['month'] = df_for_association_mining_personsInjured['month'].astype(\"str\")\n",
    "#df_for_association_mining_personsInjured['postalCode'] = df_for_association_mining_personsInjured['postalCode'].astype(\"str\")\n",
    "df_for_association_mining_personsInjured['number_of_persons_injured'] = df_for_association_mining_personsInjured['number_of_persons_injured'].astype(\"str\")\n",
    "#df_for_association_mining_personsInjured['PRCP'] = df_for_association_mining_personsInjured['PRCP'].astype(\"str\")\n",
    "# Convert dataframe to list of tuples\n",
    "transactions_from_df_2 = [tuple(row) for row in df_for_association_mining_personsInjured.values.tolist()]"
   ]
  },
  {
   "cell_type": "markdown",
   "metadata": {},
   "source": [
    "### Association rule mining - Using Apriori Algorithm"
   ]
  },
  {
   "cell_type": "code",
   "execution_count": 20,
   "metadata": {},
   "outputs": [
    {
     "name": "stdout",
     "output_type": "stream",
     "text": [
      "[{BROOKLYN} -> {1.0}, {Night} -> {1.0}, {QUEENS} -> {1.0}]\n"
     ]
    }
   ],
   "source": [
    "# Run apriori to find association rules for persons killed\n",
    "itemsets, rules = runApriori(transactions_from_df_1, min_sup=0.20, min_conf=0.90)\n",
    "print(rules)"
   ]
  },
  {
   "cell_type": "code",
   "execution_count": 21,
   "metadata": {},
   "outputs": [
    {
     "name": "stdout",
     "output_type": "stream",
     "text": [
      "[{BROOKLYN} -> {1.0}, {QUEENS} -> {1.0}]\n"
     ]
    }
   ],
   "source": [
    "# Run apriori to find association rules for persons injured\n",
    "itemsets, rules = runApriori(transactions_from_df_2, min_sup=0.20, min_conf=0.60)\n",
    "print(rules)"
   ]
  },
  {
   "cell_type": "markdown",
   "metadata": {},
   "source": [
    "### Association rule mining - Using FP growth algorithm"
   ]
  },
  {
   "cell_type": "code",
   "execution_count": 22,
   "metadata": {},
   "outputs": [
    {
     "name": "stdout",
     "output_type": "stream",
     "text": [
      "[[{'Night'}, {'1.0'}, 0.9776785714285714], [{'QUEENS'}, {'1.0'}, 0.953416149068323], [{'BROOKLYN'}, {'1.0'}, 0.9792899408284024]]\n"
     ]
    }
   ],
   "source": [
    "freqItemSet, rules = fpgrowth(transactions_from_df_1, minSupRatio=0.2, minConf=0.5)\n",
    "print(rules)\n"
   ]
  },
  {
   "cell_type": "code",
   "execution_count": 23,
   "metadata": {},
   "outputs": [
    {
     "name": "stdout",
     "output_type": "stream",
     "text": [
      "[[{'QUEENS'}, {'1.0'}, 0.7128786398280242], [{'BROOKLYN'}, {'1.0'}, 0.7048750935462029]]\n"
     ]
    }
   ],
   "source": [
    "freqItemSet, rules = fpgrowth(transactions_from_df_2, minSupRatio=0.2, minConf=0.5)\n",
    "print(rules)"
   ]
  },
  {
   "cell_type": "markdown",
   "metadata": {},
   "source": [
    "## Unsupervised Learning"
   ]
  },
  {
   "cell_type": "markdown",
   "metadata": {},
   "source": [
    "### Clustering - K-Means"
   ]
  },
  {
   "cell_type": "code",
   "execution_count": 24,
   "metadata": {},
   "outputs": [],
   "source": [
    "k= 3\n",
    "kmeans = KMeans(n_clusters=k)\n",
    "y_pred = kmeans.fit_predict(df[[\"number_of_persons_injured\",\"day_encoded\"]])"
   ]
  },
  {
   "cell_type": "code",
   "execution_count": 25,
   "metadata": {},
   "outputs": [
    {
     "data": {
      "image/png": "[encoded data removed]",
      "text/plain": [
       "<Figure size 864x864 with 1 Axes>"
      ]
     },
     "metadata": {
      "needs_background": "light"
     },
     "output_type": "display_data"
    }
   ],
   "source": [
    "plt.figure(figsize=(12, 12))\n",
    "plt.scatter(df[\"day_encoded\"], df[\"number_of_persons_injured\"], c=y_pred)\n",
    "plt.show()"
   ]
  },
  {
   "cell_type": "code",
   "execution_count": 26,
   "metadata": {},
   "outputs": [
    {
     "data": {
      "text/plain": [
       "\"\\n# Street data - use it later\\ndf_rd = pd.read_json('https://data.cityofnewyork.us/resource/7tqx-n33y.json?$$app_token=o4zuGaRztD7CZUutUDTALPc61&$where=within_circle(the_geom,40.8434639999999,-73.8359999999999,100)')\\ndf_rd[:1]\\n# STATUS, BIKE_LANE, BOROCODE, ST_WIDTH, TRAFDIR, RW_TYPE, SNOW_PRI, R_ZIP, L_ZIP\\n\""
      ]
     },
     "execution_count": 26,
     "metadata": {},
     "output_type": "execute_result"
    }
   ],
   "source": [
    "\"\"\"\n",
    "# Street data - use it later\n",
    "df_rd = pd.read_json('https://data.cityofnewyork.us/resource/7tqx-n33y.json?$$app_token=o4zuGaRztD7CZUutUDTALPc61&$where=within_circle(the_geom,40.8434639999999,-73.8359999999999,100)')\n",
    "df_rd[:1]\n",
    "# STATUS, BIKE_LANE, BOROCODE, ST_WIDTH, TRAFDIR, RW_TYPE, SNOW_PRI, R_ZIP, L_ZIP\n",
    "\"\"\""
   ]
  },
  {
   "cell_type": "markdown",
   "metadata": {},
   "source": [
    "## Predictions"
   ]
  },
  {
   "cell_type": "markdown",
   "metadata": {},
   "source": [
    "### Prepare data set for models"
   ]
  },
  {
   "cell_type": "code",
   "execution_count": 27,
   "metadata": {},
   "outputs": [],
   "source": [
    "from sklearn.model_selection import train_test_split\n",
    "from sklearn.ensemble import GradientBoostingRegressor\n",
    "from sklearn import metrics\n",
    "import matplotlib.pyplot as plt\n",
    "from sklearn.model_selection import cross_val_score\n",
    "from sklearn.svm import LinearSVR\n",
    "#import xgboost\n",
    "import warnings\n",
    "warnings.filterwarnings(\"ignore\")"
   ]
  },
  {
   "cell_type": "code",
   "execution_count": 40,
   "metadata": {},
   "outputs": [],
   "source": [
    "# Split data to generate the test set (to be included for validation as well)\n",
    "X_inj = df[(df['date']<'2021-04-01')][[\"month\",\"day_encoded\",\"timeOfDay_encoded\",\"borough_encoded\",\"postalCode\",\"PRCP\",\"SNOW\",\"TMAX\",\"TMIN\"]]\n",
    "y_inj = df[(df['date']<'2021-04-01')][[\"number_of_persons_injured\"]]\n",
    "\n",
    "X_kill = df[(df['date']<'2021-04-01')][[\"month\",\"day_encoded\",\"timeOfDay_encoded\",\"borough_encoded\",\"postalCode\",\"PRCP\",\"SNOW\",\"TMAX\",\"TMIN\"]]\n",
    "y_kill = df[(df['date']<'2021-04-01')][[\"number_of_persons_killed\"]]\n",
    "\n",
    "new_df = df.groupby(by=[\"date\",\"month\",\"day_encoded\",\"timeOfDay_encoded\",\"borough_encoded\",\"postalCode\",\"PRCP\",\"SNOW\",\"TMAX\",\"TMIN\"],as_index=False).size()\n",
    "X_crash = new_df[(new_df['date']<'2021-04-01')][[\"month\",\"day_encoded\",\"timeOfDay_encoded\",\"borough_encoded\",\"postalCode\",\"PRCP\",\"SNOW\",\"TMAX\",\"TMIN\"]]\n",
    "y_crash = new_df[(new_df['date']<'2021-04-01')][[\"size\"]]"
   ]
  },
  {
   "cell_type": "code",
   "execution_count": 41,
   "metadata": {},
   "outputs": [],
   "source": [
    "# Check model on unseen data for beyond 2021 April\n",
    "X_inj_unseen = df[(df['date']>='2021-04-01')][[\"month\",\"day_encoded\",\"timeOfDay_encoded\",\"borough_encoded\",\"postalCode\",\"PRCP\",\"SNOW\",\"TMAX\",\"TMIN\"]]\n",
    "X_kill_unseen = df[(df['date']>='2021-04-01')][[\"month\",\"day_encoded\",\"timeOfDay_encoded\",\"borough_encoded\",\"postalCode\",\"PRCP\",\"SNOW\",\"TMAX\",\"TMIN\"]]\n",
    "y_inj_unseen = df[(df['date']>='2021-04-01')][[\"number_of_persons_injured\"]]\n",
    "y_kill_unseen = df[(df['date']>='2021-04-01')][[\"number_of_persons_killed\"]]\n",
    "X_crash_unseen = new_df[(new_df['date']>='2021-04-01')][[\"month\",\"day_encoded\",\"timeOfDay_encoded\",\"borough_encoded\",\"postalCode\",\"PRCP\",\"SNOW\",\"TMAX\",\"TMIN\"]]\n",
    "y_crash_unseen = new_df[(new_df['date']>='2021-04-01')][[\"size\"]]"
   ]
  },
  {
   "cell_type": "markdown",
   "metadata": {},
   "source": [
    "### Prepare training and validation data set for models"
   ]
  },
  {
   "cell_type": "code",
   "execution_count": 45,
   "metadata": {},
   "outputs": [],
   "source": [
    "# For persons injured\n",
    "X_train_inj,X_test_inj,y_train_inj,y_test_inj = train_test_split(X_inj,y_inj,test_size=0.20,random_state=18)\n",
    "\n",
    "# For persons killed\n",
    "X_train_kill,X_test_kill,y_train_kill,y_test_kill = train_test_split(X_kill,y_kill,test_size=0.20,random_state=18)\n",
    "\n",
    "# For crash\n",
    "X_train_crash,X_test_crash,y_train_crash,y_test_crash = train_test_split(X_crash,y_crash,test_size=0.20,random_state=18)"
   ]
  },
  {
   "cell_type": "markdown",
   "metadata": {},
   "source": [
    "### Gradient Boosting Regression"
   ]
  },
  {
   "cell_type": "code",
   "execution_count": 49,
   "metadata": {},
   "outputs": [],
   "source": [
    "\n",
    "# Create models\n",
    "model_inj = GradientBoostingRegressor(loss=\"squared_error\",learning_rate=0.1,n_estimators=200)\n",
    "model_kil = GradientBoostingRegressor(loss=\"squared_error\",learning_rate=0.1,n_estimators=200)\n",
    "model_crash = GradientBoostingRegressor(loss=\"squared_error\",learning_rate=0.1,n_estimators=200)"
   ]
  },
  {
   "cell_type": "code",
   "execution_count": 50,
   "metadata": {},
   "outputs": [
    {
     "name": "stdout",
     "output_type": "stream",
     "text": [
      "Mean RMSE for injuries  0.8039860191625692\n",
      "Standard Deviation for injuries  0.007977497236585298\n",
      "Mean RMSE for kills  0.044120910919666495\n",
      "Standard Deviation for kills  0.005540346902828157\n",
      "Mean RMSE for crash  0.0\n",
      "Standard Deviation for crash  0.0\n"
     ]
    }
   ],
   "source": [
    "# Train and Fit models\n",
    "#model_inj.fit(X_train_inj, y_train_inj)\n",
    "#model_kil.fit(X_train_kill, y_train_kill)\n",
    "scores_train_inj = cross_val_score(model_inj,X_train_inj, y_train_inj,scoring='neg_mean_squared_error',cv=10)\n",
    "scores_train_kill = cross_val_score(model_kil,X_train_kill, y_train_kill,scoring='neg_mean_squared_error',cv=10)\n",
    "scores_train_crash = cross_val_score(model_crash,X_train_crash, y_train_crash,scoring='neg_mean_squared_error',cv=10)\n",
    "\n",
    "print(\"Mean RMSE for injuries \",(np.sqrt(-scores_train_inj)).mean())\n",
    "print(\"Standard Deviation for injuries \",(np.sqrt(-scores_train_inj)).std())\n",
    "\n",
    "print(\"Mean RMSE for kills \",(np.sqrt(-scores_train_kill)).mean())\n",
    "print(\"Standard Deviation for kills \",(np.sqrt(-scores_train_kill)).std())\n",
    "\n",
    "print(\"Mean RMSE for crash \",(np.sqrt(-scores_train_crash)).mean())\n",
    "print(\"Standard Deviation for crash \",(np.sqrt(-scores_train_crash)).std())\n",
    "\n"
   ]
  },
  {
   "cell_type": "code",
   "execution_count": 51,
   "metadata": {},
   "outputs": [],
   "source": [
    "model_inj.fit(X_train_inj, y_train_inj)\n",
    "model_kil.fit(X_train_kill, y_train_kill)\n",
    "model_crash.fit(X_train_crash, y_train_crash)\n",
    "\n",
    "# Record actual values on test set\n",
    "#predictions = pd.DataFrame(y_test_inj)\n",
    "predictions = pd.concat([y_test_inj,y_test_kill],axis=1)\n",
    "predictions_crash = pd.DataFrame(y_test_crash)\n",
    "# Predict\n",
    "predictions['pred_inj'] = model_inj.predict(X_test_inj)\n",
    "predictions['pred_kil'] = model_kil.predict(X_test_kill)\n",
    "predictions_crash['pred_crash'] = model_crash.predict(X_test_crash)"
   ]
  },
  {
   "cell_type": "code",
   "execution_count": 52,
   "metadata": {},
   "outputs": [
    {
     "name": "stdout",
     "output_type": "stream",
     "text": [
      "MAE for Injuries -  0.43202867973108283\n",
      "RMSE for Injuries -  0.787235374052353\n",
      "MAE for Kills -  0.001725432699184666\n",
      "RMSE for Kills -  0.001886353883564583\n",
      "MAE for crash -  0.0\n",
      "RMSE for crash -  0.0\n"
     ]
    }
   ],
   "source": [
    "predictions['number_of_persons_injured'] = predictions['number_of_persons_injured'].round().astype(\"int\")\n",
    "predictions['pred_inj'] = predictions['pred_inj'].round().astype(\"int\")\n",
    "\n",
    "predictions['number_of_persons_killed'] = predictions['number_of_persons_killed'].round().astype(\"int\")\n",
    "predictions['pred_kil'] = predictions['pred_kil'].round().astype(\"int\")\n",
    "\n",
    "predictions_crash['size'] = predictions_crash['size'].round().astype(\"int\")\n",
    "predictions_crash['pred_crash'] = predictions_crash['pred_crash'].round().astype(\"int\")\n",
    "\n",
    "print(\"MAE for Injuries - \",metrics.mean_absolute_error(predictions['number_of_persons_injured'],predictions['pred_inj']))\n",
    "print(\"RMSE for Injuries - \", metrics.mean_squared_error(predictions['number_of_persons_injured'],predictions['pred_inj']))\n",
    "\n",
    "print(\"MAE for Kills - \",metrics.mean_absolute_error(predictions['number_of_persons_killed'],predictions['pred_kil']))\n",
    "print(\"RMSE for Kills - \", metrics.mean_squared_error(predictions['number_of_persons_killed'],predictions['pred_kil']))\n",
    "\n",
    "print(\"MAE for crash - \",metrics.mean_absolute_error(predictions_crash['size'],predictions_crash['pred_crash']))\n",
    "print(\"RMSE for crash - \", metrics.mean_squared_error(predictions_crash['size'],predictions_crash['pred_crash']))"
   ]
  },
  {
   "cell_type": "code",
   "execution_count": 54,
   "metadata": {},
   "outputs": [],
   "source": [
    "# Record actual values on test set\n",
    "predictions_unseen = pd.concat([y_inj_unseen,y_kill_unseen],axis=1)\n",
    "predictions_unseen_crash = pd.DataFrame(y_crash_unseen)\n",
    "# Predict\n",
    "predictions_unseen['pred_inj'] = model_inj.predict(X_inj_unseen)\n",
    "predictions_unseen['pred_kill'] = model_kil.predict(X_kill_unseen)\n",
    "predictions_unseen_crash['pred_crash'] = model_kil.predict(X_crash_unseen)"
   ]
  },
  {
   "cell_type": "code",
   "execution_count": 55,
   "metadata": {},
   "outputs": [
    {
     "name": "stdout",
     "output_type": "stream",
     "text": [
      "MAE for Injuries -  0.595066750104297\n",
      "RMSE for Injuries -  1.0668370184953413\n",
      "MAE for Kills -  0.0031810596579057156\n",
      "RMSE for Kills -  0.003424419413155333\n",
      "MAE for crash -  1.0\n",
      "RMSE for crash -  1.0\n"
     ]
    }
   ],
   "source": [
    "predictions_unseen['number_of_persons_injured'] = predictions_unseen['number_of_persons_injured'].round().astype(\"int\")\n",
    "predictions_unseen['pred_inj'] = predictions_unseen['pred_inj'].round().astype(\"int\")\n",
    "predictions_unseen['number_of_persons_killed'] = predictions_unseen['number_of_persons_killed'].round().astype(\"int\")\n",
    "predictions_unseen['pred_kill'] = predictions_unseen['pred_kill'].round().astype(\"int\")\n",
    "predictions_unseen_crash['size'] = predictions_unseen_crash['size'].round().astype(\"int\")\n",
    "predictions_unseen_crash['pred_crash'] = predictions_unseen_crash['pred_crash'].round().astype(\"int\")\n",
    "\n",
    "print(\"MAE for Injuries - \",metrics.mean_absolute_error(predictions_unseen['number_of_persons_injured'],predictions_unseen['pred_inj']))\n",
    "print(\"RMSE for Injuries - \", metrics.mean_squared_error(predictions_unseen['number_of_persons_injured'],predictions_unseen['pred_inj']))\n",
    "\n",
    "print(\"MAE for Kills - \",metrics.mean_absolute_error(predictions_unseen['number_of_persons_killed'],predictions_unseen['pred_kill']))\n",
    "print(\"RMSE for Kills - \", metrics.mean_squared_error(predictions_unseen['number_of_persons_killed'],predictions_unseen['pred_kill']))\n",
    "\n",
    "print(\"MAE for crash - \",metrics.mean_absolute_error(predictions_unseen_crash['size'],predictions_unseen_crash['pred_crash']))\n",
    "print(\"RMSE for crash - \", metrics.mean_squared_error(predictions_unseen_crash['size'],predictions_unseen_crash['pred_crash']))"
   ]
  },
  {
   "cell_type": "code",
   "execution_count": 37,
   "metadata": {},
   "outputs": [
    {
     "data": {
      "text/plain": [
       "array([1.02001912, 1.04554555])"
      ]
     },
     "execution_count": 37,
     "metadata": {},
     "output_type": "execute_result"
    }
   ],
   "source": [
    "# Calculate 90% confidence interval for errors\n",
    "from scipy import stats\n",
    "\n",
    "conf = 0.90\n",
    "\n",
    "squared_errors = (predictions_unseen['number_of_persons_injured'] - predictions_unseen['pred_inj']) ** 2\n",
    "np.sqrt( \n",
    "    stats.t.interval(conf,len(squared_errors) - 1, loc=squared_errors.mean(), scale=stats.sem(squared_errors))\n",
    ")"
   ]
  },
  {
   "cell_type": "markdown",
   "metadata": {},
   "source": [
    "### SVM Regression"
   ]
  },
  {
   "cell_type": "code",
   "execution_count": 38,
   "metadata": {},
   "outputs": [],
   "source": [
    "# Create model\n",
    "\n",
    "svm_reg_inj = LinearSVR(epsilon=0.5,)\n",
    "svm_reg_kill = LinearSVR(epsilon=0.5)\n",
    "svm_reg_crash = LinearSVR(epsilon=0.5)"
   ]
  },
  {
   "cell_type": "code",
   "execution_count": 39,
   "metadata": {},
   "outputs": [
    {
     "ename": "KeyboardInterrupt",
     "evalue": "",
     "output_type": "error",
     "traceback": [
      "\u001b[0;31m---------------------------------------------------------------------------\u001b[0m",
      "\u001b[0;31mKeyboardInterrupt\u001b[0m                         Traceback (most recent call last)",
      "\u001b[0;32m/var/folders/mw/qkflcsq574xdq19ckqmhrdkr0000gn/T/ipykernel_1877/1876945554.py\u001b[0m in \u001b[0;36m<module>\u001b[0;34m\u001b[0m\n\u001b[0;32m----> 1\u001b[0;31m \u001b[0mscores_train_inj\u001b[0m \u001b[0;34m=\u001b[0m \u001b[0mcross_val_score\u001b[0m\u001b[0;34m(\u001b[0m\u001b[0msvm_reg_inj\u001b[0m\u001b[0;34m,\u001b[0m\u001b[0mX_train_inj\u001b[0m\u001b[0;34m,\u001b[0m \u001b[0my_train_inj\u001b[0m\u001b[0;34m,\u001b[0m\u001b[0mscoring\u001b[0m\u001b[0;34m=\u001b[0m\u001b[0;34m'neg_mean_squared_error'\u001b[0m\u001b[0;34m,\u001b[0m\u001b[0mcv\u001b[0m\u001b[0;34m=\u001b[0m\u001b[0;36m10\u001b[0m\u001b[0;34m)\u001b[0m\u001b[0;34m\u001b[0m\u001b[0;34m\u001b[0m\u001b[0m\n\u001b[0m\u001b[1;32m      2\u001b[0m \u001b[0mscores_train_kill\u001b[0m \u001b[0;34m=\u001b[0m \u001b[0mcross_val_score\u001b[0m\u001b[0;34m(\u001b[0m\u001b[0msvm_reg_kill\u001b[0m\u001b[0;34m,\u001b[0m\u001b[0mX_train_kill\u001b[0m\u001b[0;34m,\u001b[0m \u001b[0my_train_kill\u001b[0m\u001b[0;34m,\u001b[0m\u001b[0mscoring\u001b[0m\u001b[0;34m=\u001b[0m\u001b[0;34m'neg_mean_squared_error'\u001b[0m\u001b[0;34m,\u001b[0m\u001b[0mcv\u001b[0m\u001b[0;34m=\u001b[0m\u001b[0;36m10\u001b[0m\u001b[0;34m)\u001b[0m\u001b[0;34m\u001b[0m\u001b[0;34m\u001b[0m\u001b[0m\n\u001b[1;32m      3\u001b[0m \u001b[0mscores_train_crash\u001b[0m \u001b[0;34m=\u001b[0m \u001b[0mcross_val_score\u001b[0m\u001b[0;34m(\u001b[0m\u001b[0msvm_reg_crash\u001b[0m\u001b[0;34m,\u001b[0m\u001b[0mX_train_crash\u001b[0m\u001b[0;34m,\u001b[0m \u001b[0my_train_crash\u001b[0m\u001b[0;34m,\u001b[0m\u001b[0mscoring\u001b[0m\u001b[0;34m=\u001b[0m\u001b[0;34m'neg_mean_squared_error'\u001b[0m\u001b[0;34m,\u001b[0m\u001b[0mcv\u001b[0m\u001b[0;34m=\u001b[0m\u001b[0;36m10\u001b[0m\u001b[0;34m)\u001b[0m\u001b[0;34m\u001b[0m\u001b[0;34m\u001b[0m\u001b[0m\n\u001b[1;32m      4\u001b[0m \u001b[0;34m\u001b[0m\u001b[0m\n\u001b[1;32m      5\u001b[0m \u001b[0mprint\u001b[0m\u001b[0;34m(\u001b[0m\u001b[0;34m\"SVM - Mean RMSE for injuries \"\u001b[0m\u001b[0;34m,\u001b[0m\u001b[0;34m(\u001b[0m\u001b[0mnp\u001b[0m\u001b[0;34m.\u001b[0m\u001b[0msqrt\u001b[0m\u001b[0;34m(\u001b[0m\u001b[0;34m-\u001b[0m\u001b[0mscores_train_inj\u001b[0m\u001b[0;34m)\u001b[0m\u001b[0;34m)\u001b[0m\u001b[0;34m.\u001b[0m\u001b[0mmean\u001b[0m\u001b[0;34m(\u001b[0m\u001b[0;34m)\u001b[0m\u001b[0;34m)\u001b[0m\u001b[0;34m\u001b[0m\u001b[0;34m\u001b[0m\u001b[0m\n",
      "\u001b[0;32m~/miniforge3/envs/mlp/lib/python3.8/site-packages/sklearn/model_selection/_validation.py\u001b[0m in \u001b[0;36mcross_val_score\u001b[0;34m(estimator, X, y, groups, scoring, cv, n_jobs, verbose, fit_params, pre_dispatch, error_score)\u001b[0m\n\u001b[1;32m    508\u001b[0m     \u001b[0mscorer\u001b[0m \u001b[0;34m=\u001b[0m \u001b[0mcheck_scoring\u001b[0m\u001b[0;34m(\u001b[0m\u001b[0mestimator\u001b[0m\u001b[0;34m,\u001b[0m \u001b[0mscoring\u001b[0m\u001b[0;34m=\u001b[0m\u001b[0mscoring\u001b[0m\u001b[0;34m)\u001b[0m\u001b[0;34m\u001b[0m\u001b[0;34m\u001b[0m\u001b[0m\n\u001b[1;32m    509\u001b[0m \u001b[0;34m\u001b[0m\u001b[0m\n\u001b[0;32m--> 510\u001b[0;31m     cv_results = cross_validate(\n\u001b[0m\u001b[1;32m    511\u001b[0m         \u001b[0mestimator\u001b[0m\u001b[0;34m=\u001b[0m\u001b[0mestimator\u001b[0m\u001b[0;34m,\u001b[0m\u001b[0;34m\u001b[0m\u001b[0;34m\u001b[0m\u001b[0m\n\u001b[1;32m    512\u001b[0m         \u001b[0mX\u001b[0m\u001b[0;34m=\u001b[0m\u001b[0mX\u001b[0m\u001b[0;34m,\u001b[0m\u001b[0;34m\u001b[0m\u001b[0;34m\u001b[0m\u001b[0m\n",
      "\u001b[0;32m~/miniforge3/envs/mlp/lib/python3.8/site-packages/sklearn/model_selection/_validation.py\u001b[0m in \u001b[0;36mcross_validate\u001b[0;34m(estimator, X, y, groups, scoring, cv, n_jobs, verbose, fit_params, pre_dispatch, return_train_score, return_estimator, error_score)\u001b[0m\n\u001b[1;32m    265\u001b[0m     \u001b[0;31m# independent, and that it is pickle-able.\u001b[0m\u001b[0;34m\u001b[0m\u001b[0;34m\u001b[0m\u001b[0;34m\u001b[0m\u001b[0m\n\u001b[1;32m    266\u001b[0m     \u001b[0mparallel\u001b[0m \u001b[0;34m=\u001b[0m \u001b[0mParallel\u001b[0m\u001b[0;34m(\u001b[0m\u001b[0mn_jobs\u001b[0m\u001b[0;34m=\u001b[0m\u001b[0mn_jobs\u001b[0m\u001b[0;34m,\u001b[0m \u001b[0mverbose\u001b[0m\u001b[0;34m=\u001b[0m\u001b[0mverbose\u001b[0m\u001b[0;34m,\u001b[0m \u001b[0mpre_dispatch\u001b[0m\u001b[0;34m=\u001b[0m\u001b[0mpre_dispatch\u001b[0m\u001b[0;34m)\u001b[0m\u001b[0;34m\u001b[0m\u001b[0;34m\u001b[0m\u001b[0m\n\u001b[0;32m--> 267\u001b[0;31m     results = parallel(\n\u001b[0m\u001b[1;32m    268\u001b[0m         delayed(_fit_and_score)(\n\u001b[1;32m    269\u001b[0m             \u001b[0mclone\u001b[0m\u001b[0;34m(\u001b[0m\u001b[0mestimator\u001b[0m\u001b[0;34m)\u001b[0m\u001b[0;34m,\u001b[0m\u001b[0;34m\u001b[0m\u001b[0;34m\u001b[0m\u001b[0m\n",
      "\u001b[0;32m~/miniforge3/envs/mlp/lib/python3.8/site-packages/joblib/parallel.py\u001b[0m in \u001b[0;36m__call__\u001b[0;34m(self, iterable)\u001b[0m\n\u001b[1;32m   1044\u001b[0m                 \u001b[0mself\u001b[0m\u001b[0;34m.\u001b[0m\u001b[0m_iterating\u001b[0m \u001b[0;34m=\u001b[0m \u001b[0mself\u001b[0m\u001b[0;34m.\u001b[0m\u001b[0m_original_iterator\u001b[0m \u001b[0;32mis\u001b[0m \u001b[0;32mnot\u001b[0m \u001b[0;32mNone\u001b[0m\u001b[0;34m\u001b[0m\u001b[0;34m\u001b[0m\u001b[0m\n\u001b[1;32m   1045\u001b[0m \u001b[0;34m\u001b[0m\u001b[0m\n\u001b[0;32m-> 1046\u001b[0;31m             \u001b[0;32mwhile\u001b[0m \u001b[0mself\u001b[0m\u001b[0;34m.\u001b[0m\u001b[0mdispatch_one_batch\u001b[0m\u001b[0;34m(\u001b[0m\u001b[0miterator\u001b[0m\u001b[0;34m)\u001b[0m\u001b[0;34m:\u001b[0m\u001b[0;34m\u001b[0m\u001b[0;34m\u001b[0m\u001b[0m\n\u001b[0m\u001b[1;32m   1047\u001b[0m                 \u001b[0;32mpass\u001b[0m\u001b[0;34m\u001b[0m\u001b[0;34m\u001b[0m\u001b[0m\n\u001b[1;32m   1048\u001b[0m \u001b[0;34m\u001b[0m\u001b[0m\n",
      "\u001b[0;32m~/miniforge3/envs/mlp/lib/python3.8/site-packages/joblib/parallel.py\u001b[0m in \u001b[0;36mdispatch_one_batch\u001b[0;34m(self, iterator)\u001b[0m\n\u001b[1;32m    859\u001b[0m                 \u001b[0;32mreturn\u001b[0m \u001b[0;32mFalse\u001b[0m\u001b[0;34m\u001b[0m\u001b[0;34m\u001b[0m\u001b[0m\n\u001b[1;32m    860\u001b[0m             \u001b[0;32melse\u001b[0m\u001b[0;34m:\u001b[0m\u001b[0;34m\u001b[0m\u001b[0;34m\u001b[0m\u001b[0m\n\u001b[0;32m--> 861\u001b[0;31m                 \u001b[0mself\u001b[0m\u001b[0;34m.\u001b[0m\u001b[0m_dispatch\u001b[0m\u001b[0;34m(\u001b[0m\u001b[0mtasks\u001b[0m\u001b[0;34m)\u001b[0m\u001b[0;34m\u001b[0m\u001b[0;34m\u001b[0m\u001b[0m\n\u001b[0m\u001b[1;32m    862\u001b[0m                 \u001b[0;32mreturn\u001b[0m \u001b[0;32mTrue\u001b[0m\u001b[0;34m\u001b[0m\u001b[0;34m\u001b[0m\u001b[0m\n\u001b[1;32m    863\u001b[0m \u001b[0;34m\u001b[0m\u001b[0m\n",
      "\u001b[0;32m~/miniforge3/envs/mlp/lib/python3.8/site-packages/joblib/parallel.py\u001b[0m in \u001b[0;36m_dispatch\u001b[0;34m(self, batch)\u001b[0m\n\u001b[1;32m    777\u001b[0m         \u001b[0;32mwith\u001b[0m \u001b[0mself\u001b[0m\u001b[0;34m.\u001b[0m\u001b[0m_lock\u001b[0m\u001b[0;34m:\u001b[0m\u001b[0;34m\u001b[0m\u001b[0;34m\u001b[0m\u001b[0m\n\u001b[1;32m    778\u001b[0m             \u001b[0mjob_idx\u001b[0m \u001b[0;34m=\u001b[0m \u001b[0mlen\u001b[0m\u001b[0;34m(\u001b[0m\u001b[0mself\u001b[0m\u001b[0;34m.\u001b[0m\u001b[0m_jobs\u001b[0m\u001b[0;34m)\u001b[0m\u001b[0;34m\u001b[0m\u001b[0;34m\u001b[0m\u001b[0m\n\u001b[0;32m--> 779\u001b[0;31m             \u001b[0mjob\u001b[0m \u001b[0;34m=\u001b[0m \u001b[0mself\u001b[0m\u001b[0;34m.\u001b[0m\u001b[0m_backend\u001b[0m\u001b[0;34m.\u001b[0m\u001b[0mapply_async\u001b[0m\u001b[0;34m(\u001b[0m\u001b[0mbatch\u001b[0m\u001b[0;34m,\u001b[0m \u001b[0mcallback\u001b[0m\u001b[0;34m=\u001b[0m\u001b[0mcb\u001b[0m\u001b[0;34m)\u001b[0m\u001b[0;34m\u001b[0m\u001b[0;34m\u001b[0m\u001b[0m\n\u001b[0m\u001b[1;32m    780\u001b[0m             \u001b[0;31m# A job can complete so quickly than its callback is\u001b[0m\u001b[0;34m\u001b[0m\u001b[0;34m\u001b[0m\u001b[0;34m\u001b[0m\u001b[0m\n\u001b[1;32m    781\u001b[0m             \u001b[0;31m# called before we get here, causing self._jobs to\u001b[0m\u001b[0;34m\u001b[0m\u001b[0;34m\u001b[0m\u001b[0;34m\u001b[0m\u001b[0m\n",
      "\u001b[0;32m~/miniforge3/envs/mlp/lib/python3.8/site-packages/joblib/_parallel_backends.py\u001b[0m in \u001b[0;36mapply_async\u001b[0;34m(self, func, callback)\u001b[0m\n\u001b[1;32m    206\u001b[0m     \u001b[0;32mdef\u001b[0m \u001b[0mapply_async\u001b[0m\u001b[0;34m(\u001b[0m\u001b[0mself\u001b[0m\u001b[0;34m,\u001b[0m \u001b[0mfunc\u001b[0m\u001b[0;34m,\u001b[0m \u001b[0mcallback\u001b[0m\u001b[0;34m=\u001b[0m\u001b[0;32mNone\u001b[0m\u001b[0;34m)\u001b[0m\u001b[0;34m:\u001b[0m\u001b[0;34m\u001b[0m\u001b[0;34m\u001b[0m\u001b[0m\n\u001b[1;32m    207\u001b[0m         \u001b[0;34m\"\"\"Schedule a func to be run\"\"\"\u001b[0m\u001b[0;34m\u001b[0m\u001b[0;34m\u001b[0m\u001b[0m\n\u001b[0;32m--> 208\u001b[0;31m         \u001b[0mresult\u001b[0m \u001b[0;34m=\u001b[0m \u001b[0mImmediateResult\u001b[0m\u001b[0;34m(\u001b[0m\u001b[0mfunc\u001b[0m\u001b[0;34m)\u001b[0m\u001b[0;34m\u001b[0m\u001b[0;34m\u001b[0m\u001b[0m\n\u001b[0m\u001b[1;32m    209\u001b[0m         \u001b[0;32mif\u001b[0m \u001b[0mcallback\u001b[0m\u001b[0;34m:\u001b[0m\u001b[0;34m\u001b[0m\u001b[0;34m\u001b[0m\u001b[0m\n\u001b[1;32m    210\u001b[0m             \u001b[0mcallback\u001b[0m\u001b[0;34m(\u001b[0m\u001b[0mresult\u001b[0m\u001b[0;34m)\u001b[0m\u001b[0;34m\u001b[0m\u001b[0;34m\u001b[0m\u001b[0m\n",
      "\u001b[0;32m~/miniforge3/envs/mlp/lib/python3.8/site-packages/joblib/_parallel_backends.py\u001b[0m in \u001b[0;36m__init__\u001b[0;34m(self, batch)\u001b[0m\n\u001b[1;32m    570\u001b[0m         \u001b[0;31m# Don't delay the application, to avoid keeping the input\u001b[0m\u001b[0;34m\u001b[0m\u001b[0;34m\u001b[0m\u001b[0;34m\u001b[0m\u001b[0m\n\u001b[1;32m    571\u001b[0m         \u001b[0;31m# arguments in memory\u001b[0m\u001b[0;34m\u001b[0m\u001b[0;34m\u001b[0m\u001b[0;34m\u001b[0m\u001b[0m\n\u001b[0;32m--> 572\u001b[0;31m         \u001b[0mself\u001b[0m\u001b[0;34m.\u001b[0m\u001b[0mresults\u001b[0m \u001b[0;34m=\u001b[0m \u001b[0mbatch\u001b[0m\u001b[0;34m(\u001b[0m\u001b[0;34m)\u001b[0m\u001b[0;34m\u001b[0m\u001b[0;34m\u001b[0m\u001b[0m\n\u001b[0m\u001b[1;32m    573\u001b[0m \u001b[0;34m\u001b[0m\u001b[0m\n\u001b[1;32m    574\u001b[0m     \u001b[0;32mdef\u001b[0m \u001b[0mget\u001b[0m\u001b[0;34m(\u001b[0m\u001b[0mself\u001b[0m\u001b[0;34m)\u001b[0m\u001b[0;34m:\u001b[0m\u001b[0;34m\u001b[0m\u001b[0;34m\u001b[0m\u001b[0m\n",
      "\u001b[0;32m~/miniforge3/envs/mlp/lib/python3.8/site-packages/joblib/parallel.py\u001b[0m in \u001b[0;36m__call__\u001b[0;34m(self)\u001b[0m\n\u001b[1;32m    260\u001b[0m         \u001b[0;31m# change the default number of processes to -1\u001b[0m\u001b[0;34m\u001b[0m\u001b[0;34m\u001b[0m\u001b[0;34m\u001b[0m\u001b[0m\n\u001b[1;32m    261\u001b[0m         \u001b[0;32mwith\u001b[0m \u001b[0mparallel_backend\u001b[0m\u001b[0;34m(\u001b[0m\u001b[0mself\u001b[0m\u001b[0;34m.\u001b[0m\u001b[0m_backend\u001b[0m\u001b[0;34m,\u001b[0m \u001b[0mn_jobs\u001b[0m\u001b[0;34m=\u001b[0m\u001b[0mself\u001b[0m\u001b[0;34m.\u001b[0m\u001b[0m_n_jobs\u001b[0m\u001b[0;34m)\u001b[0m\u001b[0;34m:\u001b[0m\u001b[0;34m\u001b[0m\u001b[0;34m\u001b[0m\u001b[0m\n\u001b[0;32m--> 262\u001b[0;31m             return [func(*args, **kwargs)\n\u001b[0m\u001b[1;32m    263\u001b[0m                     for func, args, kwargs in self.items]\n\u001b[1;32m    264\u001b[0m \u001b[0;34m\u001b[0m\u001b[0m\n",
      "\u001b[0;32m~/miniforge3/envs/mlp/lib/python3.8/site-packages/joblib/parallel.py\u001b[0m in \u001b[0;36m<listcomp>\u001b[0;34m(.0)\u001b[0m\n\u001b[1;32m    260\u001b[0m         \u001b[0;31m# change the default number of processes to -1\u001b[0m\u001b[0;34m\u001b[0m\u001b[0;34m\u001b[0m\u001b[0;34m\u001b[0m\u001b[0m\n\u001b[1;32m    261\u001b[0m         \u001b[0;32mwith\u001b[0m \u001b[0mparallel_backend\u001b[0m\u001b[0;34m(\u001b[0m\u001b[0mself\u001b[0m\u001b[0;34m.\u001b[0m\u001b[0m_backend\u001b[0m\u001b[0;34m,\u001b[0m \u001b[0mn_jobs\u001b[0m\u001b[0;34m=\u001b[0m\u001b[0mself\u001b[0m\u001b[0;34m.\u001b[0m\u001b[0m_n_jobs\u001b[0m\u001b[0;34m)\u001b[0m\u001b[0;34m:\u001b[0m\u001b[0;34m\u001b[0m\u001b[0;34m\u001b[0m\u001b[0m\n\u001b[0;32m--> 262\u001b[0;31m             return [func(*args, **kwargs)\n\u001b[0m\u001b[1;32m    263\u001b[0m                     for func, args, kwargs in self.items]\n\u001b[1;32m    264\u001b[0m \u001b[0;34m\u001b[0m\u001b[0m\n",
      "\u001b[0;32m~/miniforge3/envs/mlp/lib/python3.8/site-packages/sklearn/utils/fixes.py\u001b[0m in \u001b[0;36m__call__\u001b[0;34m(self, *args, **kwargs)\u001b[0m\n\u001b[1;32m    209\u001b[0m     \u001b[0;32mdef\u001b[0m \u001b[0m__call__\u001b[0m\u001b[0;34m(\u001b[0m\u001b[0mself\u001b[0m\u001b[0;34m,\u001b[0m \u001b[0;34m*\u001b[0m\u001b[0margs\u001b[0m\u001b[0;34m,\u001b[0m \u001b[0;34m**\u001b[0m\u001b[0mkwargs\u001b[0m\u001b[0;34m)\u001b[0m\u001b[0;34m:\u001b[0m\u001b[0;34m\u001b[0m\u001b[0;34m\u001b[0m\u001b[0m\n\u001b[1;32m    210\u001b[0m         \u001b[0;32mwith\u001b[0m \u001b[0mconfig_context\u001b[0m\u001b[0;34m(\u001b[0m\u001b[0;34m**\u001b[0m\u001b[0mself\u001b[0m\u001b[0;34m.\u001b[0m\u001b[0mconfig\u001b[0m\u001b[0;34m)\u001b[0m\u001b[0;34m:\u001b[0m\u001b[0;34m\u001b[0m\u001b[0;34m\u001b[0m\u001b[0m\n\u001b[0;32m--> 211\u001b[0;31m             \u001b[0;32mreturn\u001b[0m \u001b[0mself\u001b[0m\u001b[0;34m.\u001b[0m\u001b[0mfunction\u001b[0m\u001b[0;34m(\u001b[0m\u001b[0;34m*\u001b[0m\u001b[0margs\u001b[0m\u001b[0;34m,\u001b[0m \u001b[0;34m**\u001b[0m\u001b[0mkwargs\u001b[0m\u001b[0;34m)\u001b[0m\u001b[0;34m\u001b[0m\u001b[0;34m\u001b[0m\u001b[0m\n\u001b[0m\u001b[1;32m    212\u001b[0m \u001b[0;34m\u001b[0m\u001b[0m\n\u001b[1;32m    213\u001b[0m \u001b[0;34m\u001b[0m\u001b[0m\n",
      "\u001b[0;32m~/miniforge3/envs/mlp/lib/python3.8/site-packages/sklearn/model_selection/_validation.py\u001b[0m in \u001b[0;36m_fit_and_score\u001b[0;34m(estimator, X, y, scorer, train, test, verbose, parameters, fit_params, return_train_score, return_parameters, return_n_test_samples, return_times, return_estimator, split_progress, candidate_progress, error_score)\u001b[0m\n\u001b[1;32m    679\u001b[0m             \u001b[0mestimator\u001b[0m\u001b[0;34m.\u001b[0m\u001b[0mfit\u001b[0m\u001b[0;34m(\u001b[0m\u001b[0mX_train\u001b[0m\u001b[0;34m,\u001b[0m \u001b[0;34m**\u001b[0m\u001b[0mfit_params\u001b[0m\u001b[0;34m)\u001b[0m\u001b[0;34m\u001b[0m\u001b[0;34m\u001b[0m\u001b[0m\n\u001b[1;32m    680\u001b[0m         \u001b[0;32melse\u001b[0m\u001b[0;34m:\u001b[0m\u001b[0;34m\u001b[0m\u001b[0;34m\u001b[0m\u001b[0m\n\u001b[0;32m--> 681\u001b[0;31m             \u001b[0mestimator\u001b[0m\u001b[0;34m.\u001b[0m\u001b[0mfit\u001b[0m\u001b[0;34m(\u001b[0m\u001b[0mX_train\u001b[0m\u001b[0;34m,\u001b[0m \u001b[0my_train\u001b[0m\u001b[0;34m,\u001b[0m \u001b[0;34m**\u001b[0m\u001b[0mfit_params\u001b[0m\u001b[0;34m)\u001b[0m\u001b[0;34m\u001b[0m\u001b[0;34m\u001b[0m\u001b[0m\n\u001b[0m\u001b[1;32m    682\u001b[0m \u001b[0;34m\u001b[0m\u001b[0m\n\u001b[1;32m    683\u001b[0m     \u001b[0;32mexcept\u001b[0m \u001b[0mException\u001b[0m\u001b[0;34m:\u001b[0m\u001b[0;34m\u001b[0m\u001b[0;34m\u001b[0m\u001b[0m\n",
      "\u001b[0;32m~/miniforge3/envs/mlp/lib/python3.8/site-packages/sklearn/svm/_classes.py\u001b[0m in \u001b[0;36mfit\u001b[0;34m(self, X, y, sample_weight)\u001b[0m\n\u001b[1;32m    482\u001b[0m         )\n\u001b[1;32m    483\u001b[0m         \u001b[0mpenalty\u001b[0m \u001b[0;34m=\u001b[0m \u001b[0;34m\"l2\"\u001b[0m  \u001b[0;31m# SVR only accepts l2 penalty\u001b[0m\u001b[0;34m\u001b[0m\u001b[0;34m\u001b[0m\u001b[0m\n\u001b[0;32m--> 484\u001b[0;31m         self.coef_, self.intercept_, self.n_iter_ = _fit_liblinear(\n\u001b[0m\u001b[1;32m    485\u001b[0m             \u001b[0mX\u001b[0m\u001b[0;34m,\u001b[0m\u001b[0;34m\u001b[0m\u001b[0;34m\u001b[0m\u001b[0m\n\u001b[1;32m    486\u001b[0m             \u001b[0my\u001b[0m\u001b[0;34m,\u001b[0m\u001b[0;34m\u001b[0m\u001b[0;34m\u001b[0m\u001b[0m\n",
      "\u001b[0;32m~/miniforge3/envs/mlp/lib/python3.8/site-packages/sklearn/svm/_base.py\u001b[0m in \u001b[0;36m_fit_liblinear\u001b[0;34m(X, y, C, fit_intercept, intercept_scaling, class_weight, penalty, dual, verbose, max_iter, tol, random_state, multi_class, loss, epsilon, sample_weight)\u001b[0m\n\u001b[1;32m   1184\u001b[0m \u001b[0;34m\u001b[0m\u001b[0m\n\u001b[1;32m   1185\u001b[0m     \u001b[0msolver_type\u001b[0m \u001b[0;34m=\u001b[0m \u001b[0m_get_liblinear_solver_type\u001b[0m\u001b[0;34m(\u001b[0m\u001b[0mmulti_class\u001b[0m\u001b[0;34m,\u001b[0m \u001b[0mpenalty\u001b[0m\u001b[0;34m,\u001b[0m \u001b[0mloss\u001b[0m\u001b[0;34m,\u001b[0m \u001b[0mdual\u001b[0m\u001b[0;34m)\u001b[0m\u001b[0;34m\u001b[0m\u001b[0;34m\u001b[0m\u001b[0m\n\u001b[0;32m-> 1186\u001b[0;31m     raw_coef_, n_iter_ = liblinear.train_wrap(\n\u001b[0m\u001b[1;32m   1187\u001b[0m         \u001b[0mX\u001b[0m\u001b[0;34m,\u001b[0m\u001b[0;34m\u001b[0m\u001b[0;34m\u001b[0m\u001b[0m\n\u001b[1;32m   1188\u001b[0m         \u001b[0my_ind\u001b[0m\u001b[0;34m,\u001b[0m\u001b[0;34m\u001b[0m\u001b[0;34m\u001b[0m\u001b[0m\n",
      "\u001b[0;31mKeyboardInterrupt\u001b[0m: "
     ]
    }
   ],
   "source": [
    "scores_train_inj = cross_val_score(svm_reg_inj,X_train_inj, y_train_inj,scoring='neg_mean_squared_error',cv=10)\n",
    "scores_train_kill = cross_val_score(svm_reg_kill,X_train_kill, y_train_kill,scoring='neg_mean_squared_error',cv=10)\n",
    "scores_train_crash = cross_val_score(svm_reg_crash,X_train_crash, y_train_crash,scoring='neg_mean_squared_error',cv=10)\n",
    "\n",
    "print(\"SVM - Mean RMSE for injuries \",(np.sqrt(-scores_train_inj)).mean())\n",
    "print(\"SVM - Standard Deviation for injuries \",(np.sqrt(-scores_train_inj)).std())\n",
    "\n",
    "print(\"SVM - Mean RMSE for kills \",(np.sqrt(-scores_train_kill)).mean())\n",
    "print(\"SVM - Standard Deviation for kills \",(np.sqrt(-scores_train_kill)).std())\n",
    "\n",
    "print(\"SVM - Mean RMSE for crash \",(np.sqrt(-scores_train_crash)).mean())\n",
    "print(\"SVM - Standard Deviation for crash \",(np.sqrt(-scores_train_crash)).std())"
   ]
  },
  {
   "cell_type": "code",
   "execution_count": null,
   "metadata": {},
   "outputs": [],
   "source": [
    "svm_reg_inj.fit(X_train_inj, y_train_inj)\n",
    "svm_reg_kill.fit(X_train_kill, y_train_kill)\n",
    "svm_reg_crash.fit(X_train_crash, y_train_crash)\n",
    "\n",
    "# Record actual values on test set\n",
    "#predictions = pd.DataFrame(y_test_inj)\n",
    "predictions_svm = pd.concat([y_test_inj,y_test_kill,y_test_crash],axis=1)\n",
    "# Predict\n",
    "predictions_svm['pred_inj'] = svm_reg_inj.predict(X_test_inj)\n",
    "predictions_svm['pred_kil'] = svm_reg_kill.predict(X_test_kill)\n",
    "predictions_svm['pred_crash'] = svm_reg_crash.predict(X_test_crash)"
   ]
  },
  {
   "cell_type": "code",
   "execution_count": null,
   "metadata": {},
   "outputs": [
    {
     "name": "stdout",
     "output_type": "stream",
     "text": [
      "SVM - MAE for Injuries -  2.1919700328994423\n",
      "SVM - RMSE for Injuries -  5.407729580889716\n",
      "SVM - MAE for Kills -  2.0043806322414532\n",
      "SVM - RMSE for Kills -  4.026319553711915\n"
     ]
    }
   ],
   "source": [
    "predictions_svm['number_of_persons_injured'] = predictions_svm['number_of_persons_injured'].round().astype(\"int\")\n",
    "predictions_svm['pred_inj'] = predictions_svm['pred_inj'].round().astype(\"int\")\n",
    "\n",
    "predictions_svm['number_of_persons_killed'] = predictions_svm['number_of_persons_killed'].round().astype(\"int\")\n",
    "predictions_svm['pred_kil'] = predictions_svm['pred_kil'].round().astype(\"int\")\n",
    "\n",
    "predictions_svm['size'] = predictions_svm['size'].round().astype(\"int\")\n",
    "predictions_svm['pred_crash'] = predictions_svm['pred_crash'].round().astype(\"int\")\n",
    "\n",
    "print(\"SVM - MAE for Injuries - \",metrics.mean_absolute_error(predictions_svm['number_of_persons_injured'],predictions_svm['pred_inj']))\n",
    "print(\"SVM - RMSE for Injuries - \", metrics.mean_squared_error(predictions_svm['number_of_persons_injured'],predictions_svm['pred_inj']))\n",
    "\n",
    "print(\"SVM - MAE for Kills - \",metrics.mean_absolute_error(predictions_svm['number_of_persons_killed'],predictions_svm['pred_kil']))\n",
    "print(\"SVM - RMSE for Kills - \", metrics.mean_squared_error(predictions_svm['number_of_persons_killed'],predictions_svm['pred_kil']))\n",
    "\n",
    "print(\"SVM - MAE for crash - \",metrics.mean_absolute_error(predictions_svm['size'],predictions_svm['pred_crash']))\n",
    "print(\"SVM - RMSE for crash - \", metrics.mean_squared_error(predictions_svm['size'],predictions_svm['pred_crash']))"
   ]
  },
  {
   "cell_type": "code",
   "execution_count": null,
   "metadata": {},
   "outputs": [],
   "source": [
    "# Record actual values on test set\n",
    "predictions_unseen_svm = pd.concat([y_inj_unseen,y_kill_unseen],axis=1)\n",
    "# Predict\n",
    "predictions_unseen_svm['pred_inj'] = svm_reg_inj.predict(X_inj_unseen)\n",
    "predictions_unseen_svm['pred_kill'] = svm_reg_kill.predict(X_kill_unseen)"
   ]
  },
  {
   "cell_type": "code",
   "execution_count": null,
   "metadata": {},
   "outputs": [
    {
     "name": "stdout",
     "output_type": "stream",
     "text": [
      "SVM - MAE for Injuries -  2.066524127381449\n",
      "SVM - RMSE for Injuries -  4.980270476985121\n",
      "SVM - MAE for Kills -  2.0029724655819776\n",
      "SVM - RMSE for Kills -  4.02125921290502\n"
     ]
    }
   ],
   "source": [
    "predictions_unseen_svm['number_of_persons_injured'] = predictions_unseen_svm['number_of_persons_injured'].round().astype(\"int\")\n",
    "predictions_unseen_svm['pred_inj'] = predictions_unseen_svm['pred_inj'].round().astype(\"int\")\n",
    "predictions_unseen_svm['number_of_persons_killed'] = predictions_unseen_svm['number_of_persons_killed'].round().astype(\"int\")\n",
    "predictions_unseen_svm['pred_kill'] = predictions_unseen_svm['pred_kill'].round().astype(\"int\")\n",
    "\n",
    "print(\"SVM - MAE for Injuries - \",metrics.mean_absolute_error(predictions_unseen_svm['number_of_persons_injured'],predictions_unseen_svm['pred_inj']))\n",
    "print(\"SVM - RMSE for Injuries - \", metrics.mean_squared_error(predictions_unseen_svm['number_of_persons_injured'],predictions_unseen_svm['pred_inj']))\n",
    "\n",
    "print(\"SVM - MAE for Kills - \",metrics.mean_absolute_error(predictions_unseen_svm['number_of_persons_killed'],predictions_unseen_svm['pred_kill']))\n",
    "print(\"SVM - RMSE for Kills - \", metrics.mean_squared_error(predictions_unseen_svm['number_of_persons_killed'],predictions_unseen_svm['pred_kill']))"
   ]
  },
  {
   "cell_type": "markdown",
   "metadata": {},
   "source": [
    "## Save Models"
   ]
  },
  {
   "cell_type": "code",
   "execution_count": 56,
   "metadata": {},
   "outputs": [],
   "source": [
    "\n",
    "# saving the model \n",
    "import pickle \n",
    "pickle_out_inj = open(\"prediction_inj.pkl\", mode = \"wb\") \n",
    "pickle.dump(model_inj, pickle_out_inj) \n",
    "pickle_out_inj.close()\n",
    "\n",
    "pickle_out_kill = open(\"prediction_kill.pkl\", mode = \"wb\") \n",
    "pickle.dump(model_kil, pickle_out_kill) \n",
    "pickle_out_kill.close()\n",
    "\n",
    "pickle_out_crash = open(\"prediction_crash.pkl\", mode = \"wb\") \n",
    "pickle.dump(model_crash, pickle_out_crash) \n",
    "pickle_out_crash.close()\n",
    "\n",
    "encoder1 = open(\"encoder_day.pkl\", mode = \"wb\") \n",
    "pickle.dump(ordinal_encoder1, encoder1) \n",
    "encoder1.close()\n",
    "\n",
    "encoder2 = open(\"encoder_time_of_day.pkl\", mode = \"wb\") \n",
    "pickle.dump(ordinal_encoder2, encoder2) \n",
    "encoder2.close()\n",
    "\n",
    "encoder3 = open(\"encoder_borough.pkl\", mode = \"wb\") \n",
    "pickle.dump(ordinal_encoder3, encoder3) \n",
    "encoder3.close()\n",
    "\n",
    "#11367\n",
    "# 11375\n"
   ]
  },
  {
   "cell_type": "code",
   "execution_count": null,
   "metadata": {},
   "outputs": [],
   "source": []
  }
 ],
 "metadata": {
  "interpreter": {
   "hash": "9a88623fe2e1cc286d2eb516b28a13a661650909c8bd9b946da9227f5f5236b1"
  },
  "kernelspec": {
   "display_name": "Python 3.8.12 64-bit ('mlp': conda)",
   "name": "python3"
  },
  "language_info": {
   "codemirror_mode": {
    "name": "ipython",
    "version": 3
   },
   "file_extension": ".py",
   "mimetype": "text/x-python",
   "name": "python",
   "nbconvert_exporter": "python",
   "pygments_lexer": "ipython3",
   "version": "3.8.12"
  },
  "orig_nbformat": 4
 },
 "nbformat": 4,
 "nbformat_minor": 2
}
